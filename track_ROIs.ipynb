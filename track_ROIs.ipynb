{
 "cells": [
  {
   "cell_type": "code",
   "execution_count": 7,
   "id": "2330670d",
   "metadata": {},
   "outputs": [],
   "source": [
    "from pathlib import Path\n",
    "import re, os, sys\n",
    "import numpy as np\n",
    "import matplotlib.pyplot as plt\n",
    "import importlib\n",
    "import roicat\n",
    "\n",
    "import roi_tracking_helpers\n",
    "importlib.reload(roi_tracking_helpers)\n",
    "from roi_tracking_helpers import roicat_align_rois\n"
   ]
  },
  {
   "cell_type": "code",
   "execution_count": 2,
   "id": "1e9ba2c3",
   "metadata": {},
   "outputs": [],
   "source": [
    "# Load data to align\n",
    "sessions_to_align = ['ses-011_date-20250315_protocol-t5', 'ses-012_date-20250318_protocol-t6']\n",
    "protocol_nums = [int(re.search(r'protocol-t(\\d+)', s).group(1)) for s in sessions_to_align]\n",
    "\n",
    "basepath = Path('/Volumes/mrsic_flogel/public/projects/AtApSuKuSaRe_20250129_HFScohort2')\n",
    "animal = 'TAA0000066'\n",
    "func_img_path = 'funcimg/Session'\n",
    "tracking_path = basepath / animal / '_'.join(f't{n}' for n in protocol_nums)\n",
    "savepath = tracking_path / 'analysis' \n",
    "\n",
    "roicat_dir = r'/Users/athinaapostolelli/Documents/SWC/VR_ABCD/ROICaT'\n",
    "\n",
    "data_to_align = [[] for s in range(len(sessions_to_align))]\n",
    "for s, sess in enumerate(sessions_to_align):\n",
    "    DF_F_file = os.path.join(basepath, animal, sess, func_img_path, 'suite2p/plane0/DF_F0.npy')\n",
    "    valid_frames_file = os.path.join(basepath, animal, sess, 'valid_frames.npz')\n",
    "\n",
    "    if os.path.exists(DF_F_file) and os.path.exists(valid_frames_file):\n",
    "        valid_frames = np.load(valid_frames_file)['valid_frames']\n",
    "\n",
    "        DF_F_all = np.load(DF_F_file)\n",
    "        DF_F = DF_F_all[:, valid_frames]\n",
    "\n",
    "        data_to_align[s] = DF_F\n",
    "        \n",
    "    else:\n",
    "        raise FileNotFoundError('Either the valid_frames.npz or the DF_F0.npy file does not exist in this directory.')\n"
   ]
  },
  {
   "cell_type": "code",
   "execution_count": null,
   "id": "342d5de9",
   "metadata": {},
   "outputs": [],
   "source": [
    "# Align the data\n",
    "if os.path.exists(os.path.join(savepath, f'roicat_aligned_ROIs_{'_'.join(f't{n}' for n in protocol_nums)}.npy')):\n",
    "    idx_original_aligned = np.load(os.path.join(savepath, f'roicat_aligned_ROIs_{'_'.join(f't{n}' for n in protocol_nums)}.npy'))\n",
    "else:\n",
    "    _, idx_original_aligned = roicat_align_rois(roicat_dir=roicat_dir,\n",
    "                        roicat_data_name='TAA0000066',\n",
    "                        sessions_to_align=sessions_to_align,\n",
    "                        basepath=basepath,\n",
    "                        animal=animal,\n",
    "                        alignment_method='DF_F0',  # this is ignored if data is not None\n",
    "                        data=data_to_align,\n",
    "                        plot_alignment=False,\n",
    "                        savepath=tracking_path)"
   ]
  }
 ],
 "metadata": {
  "kernelspec": {
   "display_name": "roicat",
   "language": "python",
   "name": "python3"
  },
  "language_info": {
   "codemirror_mode": {
    "name": "ipython",
    "version": 3
   },
   "file_extension": ".py",
   "mimetype": "text/x-python",
   "name": "python",
   "nbconvert_exporter": "python",
   "pygments_lexer": "ipython3",
   "version": "3.12.10"
  }
 },
 "nbformat": 4,
 "nbformat_minor": 5
}
