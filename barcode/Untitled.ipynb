{
 "cells": [
  {
   "cell_type": "code",
   "execution_count": 1,
   "id": "480c23e1-7be5-47df-ac5f-a303f4d117ec",
   "metadata": {},
   "outputs": [],
   "source": [
    "import numpy as np\n",
    "import sys\n",
    "from scipy.signal import find_peaks\n",
    "from datetime import datetime\n",
    "from pathlib import Path\n",
    "import os"
   ]
  },
  {
   "cell_type": "code",
   "execution_count": 2,
   "id": "82ee78d3",
   "metadata": {},
   "outputs": [],
   "source": [
    "sess_data_path = r\"C:\\Users\\Sumiya\\Workstation2024\\CephData\\SR0000014\\ses-02_date-20241009\"\n",
    "func_img_header_fname = 'SR0000014_00001.h5'\n",
    "behav_data_header_fname = '20241009SR0000014.bin'"
   ]
  },
  {
   "cell_type": "code",
   "execution_count": 3,
   "id": "f74270e5",
   "metadata": {},
   "outputs": [
    {
     "data": {
      "text/plain": [
       "True"
      ]
     },
     "execution_count": 3,
     "metadata": {},
     "output_type": "execute_result"
    }
   ],
   "source": [
    "os.name == 'nt' # Windows system"
   ]
  },
  {
   "cell_type": "code",
   "execution_count": 4,
   "id": "9f3669ab",
   "metadata": {},
   "outputs": [],
   "source": [
    "sess_data_path = Path(sess_data_path)"
   ]
  },
  {
   "cell_type": "code",
   "execution_count": 5,
   "id": "416c718e",
   "metadata": {},
   "outputs": [],
   "source": [
    "func_img_header_path = sess_data_path / 'funcimg' / func_img_header_fname\n",
    "behav_data_header_path = sess_data_path / 'behav' / behav_data_header_fname"
   ]
  },
  {
   "cell_type": "code",
   "execution_count": 6,
   "id": "5c5a13be",
   "metadata": {},
   "outputs": [],
   "source": [
    "from barcode_util import read_h5"
   ]
  },
  {
   "cell_type": "code",
   "execution_count": 7,
   "id": "dc7178c3-d265-436c-a250-955ad1664f35",
   "metadata": {},
   "outputs": [],
   "source": [
    "n_channels = 10\n",
    "height = 1\n",
    "# Input variables\n",
    "main_sample_rate = 9000 # Expected sample rate of main data, in Hz\n",
    "secondary_sample_rate = 5000 # Expected sample rate of secondary data, in Hz\n",
    "convert_timestamp_column = 0 # Column that timestamps are located in secondary data\n",
    "\n",
    "if os.name == 'nt': # Windows system\n",
    "    sess_data_path = Path(sess_data_path)\n",
    "else:\n",
    "    sess_data_path = Path(sess_data_path)\n",
    "\n",
    "vdaq_signals_file = sess_data_path / 'funcimg' / func_img_header_fname\n",
    "vdaq_signals_file_fname = func_img_header_fname.split('.')[0]\n",
    "vdaq_FrameTTL = read_h5(vdaq_signals_file, key_idx=0)\n",
    "vdaq_FrameTTL = np.array(vdaq_FrameTTL)\n",
    "vdaq_SyncTTL_ts = np.load(sess_data_path / 'funcimg' / (vdaq_signals_file_fname + '_barcode.npy'))\n",
    "\n",
    "behav_signals_file = sess_data_path / 'behav' / behav_data_header_fname\n",
    "arr = np.fromfile(behav_signals_file, dtype=np.float64) # Needs to be float64!\n",
    "behav_DAQ_data = np.reshape(arr, (-1,n_channels)).T  \n",
    "behav_signals_file_fname = behav_data_header_fname.split('.')[0]\n",
    "behav_SyncTTL_ts = np.load(sess_data_path / 'behav' / (behav_signals_file_fname + '_barcode.npy'))\n",
    "\n",
    "\n",
    "# Pull the barcode row from the data. 1st column is timestamps, second is barcodes\n",
    "barcode_timestamps_row = 0 # Same for both main and secondary, because we used our own code\n",
    "barcodes_row = 1 # Same for both main and secondary\n",
    "\n",
    "main_numpy_barcode = behav_SyncTTL_ts[barcodes_row, :]\n",
    "secondary_numpy_barcode = vdaq_SyncTTL_ts[barcodes_row, :]\n",
    "\n",
    "main_numpy_timestamp = behav_SyncTTL_ts[barcode_timestamps_row, :]\n",
    "secondary_numpy_timestamp = vdaq_SyncTTL_ts[barcode_timestamps_row, :]"
   ]
  },
  {
   "cell_type": "code",
   "execution_count": 8,
   "id": "42cd63c5",
   "metadata": {},
   "outputs": [
    {
     "data": {
      "text/plain": [
       "array([[    984,    5996,   11009, ..., 4477277, 4482289, 4487302],\n",
       "       [   4801,    4802,    4803, ...,    5694,    5695,    5696]],\n",
       "      dtype=int64)"
      ]
     },
     "execution_count": 8,
     "metadata": {},
     "output_type": "execute_result"
    }
   ],
   "source": [
    "vdaq_SyncTTL_ts"
   ]
  },
  {
   "cell_type": "code",
   "execution_count": 9,
   "id": "b0d01fac",
   "metadata": {},
   "outputs": [
    {
     "data": {
      "text/plain": [
       "array([[    1930,    10953,    19975, ..., 10513488, 10522511, 10531534],\n",
       "       [    4790,     4791,     4792, ...,     5955,     5956,     5957]],\n",
       "      dtype=int64)"
      ]
     },
     "execution_count": 9,
     "metadata": {},
     "output_type": "execute_result"
    }
   ],
   "source": [
    "behav_SyncTTL_ts"
   ]
  },
  {
   "cell_type": "code",
   "execution_count": 18,
   "id": "7e5c2420",
   "metadata": {},
   "outputs": [],
   "source": [
    "FrameTTL_index, _ = find_peaks(np.abs(np.diff(vdaq_FrameTTL)), height=0.05)"
   ]
  },
  {
   "cell_type": "code",
   "execution_count": 17,
   "id": "07e1ca98",
   "metadata": {},
   "outputs": [
    {
     "data": {
      "text/plain": [
       "0.08453369"
      ]
     },
     "execution_count": 17,
     "metadata": {},
     "output_type": "execute_result"
    }
   ],
   "source": [
    "np.diff(vdaq_FrameTTL).max()"
   ]
  },
  {
   "cell_type": "code",
   "execution_count": 23,
   "id": "d8b9128a",
   "metadata": {},
   "outputs": [
    {
     "data": {
      "text/plain": [
       "array([-0.01220703, -0.01678467,  0.05859375,  0.05859375, -0.01159668,\n",
       "       -0.01373291], dtype=float32)"
      ]
     },
     "execution_count": 23,
     "metadata": {},
     "output_type": "execute_result"
    }
   ],
   "source": [
    "vdaq_FrameTTL[20194:20200]"
   ]
  },
  {
   "cell_type": "code",
   "execution_count": 20,
   "id": "36dbcc54",
   "metadata": {},
   "outputs": [
    {
     "data": {
      "text/plain": [
       "array([20195, 20197, 20200, 20203, 20207, 20212], dtype=int64)"
      ]
     },
     "execution_count": 20,
     "metadata": {},
     "output_type": "execute_result"
    }
   ],
   "source": [
    "FrameTTL_index[:6]"
   ]
  },
  {
   "cell_type": "code",
   "execution_count": 8,
   "id": "5b9d443b",
   "metadata": {},
   "outputs": [],
   "source": [
    "n_channels = 10"
   ]
  },
  {
   "cell_type": "code",
   "execution_count": 9,
   "id": "1cfcd9d5",
   "metadata": {},
   "outputs": [],
   "source": [
    "signals_file = behav_data_header_path # shows dialog box and return the path"
   ]
  },
  {
   "cell_type": "code",
   "execution_count": null,
   "id": "38ce43ca",
   "metadata": {},
   "outputs": [],
   "source": []
  },
  {
   "cell_type": "code",
   "execution_count": 10,
   "id": "3118eaf3",
   "metadata": {},
   "outputs": [],
   "source": [
    "arr = np.fromfile(signals_file, dtype=np.float64) # Needs to be float64!\n",
    "arr = np.reshape(arr, (-1,n_channels)).T\n",
    "data = arr[signals_column,:]"
   ]
  },
  {
   "cell_type": "code",
   "execution_count": 11,
   "id": "e8e0c18b",
   "metadata": {},
   "outputs": [
    {
     "data": {
      "text/plain": [
       "-0.08946732179541508"
      ]
     },
     "execution_count": 11,
     "metadata": {},
     "output_type": "execute_result"
    }
   ],
   "source": [
    "data.min()"
   ]
  },
  {
   "cell_type": "code",
   "execution_count": 12,
   "id": "dff01414-06b0-4557-b29a-3f41ae374fdc",
   "metadata": {},
   "outputs": [],
   "source": [
    "try:\n",
    "    signals_numpy_data = data # np.load(signals_file)\n",
    "    signals_located = True\n",
    "except:\n",
    "    signals_numpy_data = ''\n",
    "    print(\"Signals .npy file not located; please check your filepath\")\n",
    "    signals_located = False"
   ]
  },
  {
   "cell_type": "code",
   "execution_count": 13,
   "id": "ff1054ff",
   "metadata": {},
   "outputs": [],
   "source": [
    "barcode_column = signals_numpy_data #[:, signals_column]\n",
    "barcode_array = barcode_column #.transpose()\n",
    "# Extract the indices of all events when TTL pulse changed value.\n",
    "event_index, _ = find_peaks(np.abs(np.diff(barcode_array)), height=4)\n",
    "# Convert the event_index to indexed_times to align with later code.\n",
    "indexed_times = event_index # Just take the index values of the raw data"
   ]
  },
  {
   "cell_type": "code",
   "execution_count": 14,
   "id": "b0f37927",
   "metadata": {},
   "outputs": [
    {
     "name": "stdout",
     "output_type": "stream",
     "text": [
      "[    1930     2020     2110 ... 10536225 10536315 10536405]\n"
     ]
    }
   ],
   "source": [
    "print(indexed_times)"
   ]
  },
  {
   "cell_type": "code",
   "execution_count": 16,
   "id": "bf52d7f8",
   "metadata": {},
   "outputs": [],
   "source": [
    "events_time_diff = np.diff(indexed_times) * sample_conversion # convert to ms\n",
    "wrapper_array = indexed_times[np.where(\n",
    "                np.logical_and(min_wrap_duration < events_time_diff,\n",
    "                            events_time_diff  < max_wrap_duration))[0]]\n",
    "\n",
    "# Isolate the wrapper_array to wrappers with ON values, to avoid any\n",
    "# \"OFF wrappers\" created by first binary value.\n",
    "false_wrapper_check = np.diff(wrapper_array) * sample_conversion # Convert to ms\n",
    "# Locate indices where two wrappers are next to each other.\n",
    "nexttoeachother = np.where(np.abs(np.diff(false_wrapper_check)) < ind_wrap_duration * global_tolerance)[0]\n",
    "# false_wrapper_check[nexttoeachother+1] = np.nan"
   ]
  },
  {
   "cell_type": "code",
   "execution_count": 17,
   "id": "32bcc5b7",
   "metadata": {},
   "outputs": [],
   "source": [
    "false_wrapper_check[nexttoeachother+1] = np.nan\n",
    "false_wrappers = np.where(\n",
    "                false_wrapper_check < max_wrap_duration)[0]\n",
    "\n",
    "# Delete the \"second\" wrapper (it's an OFF wrapper going into an ON bar)\n",
    "# wrapper_array = np.delete(wrapper_array, false_wrappers+1)\n",
    "wrapper_array = wrapper_array[false_wrappers]\n",
    "\n",
    "# Find the barcode \"start\" wrappers, set these to wrapper_start_times, then\n",
    "# save the \"real\" barcode start times to signals_barcode_start_times, which\n",
    "# will be combined with barcode values for the output .npy file.\n",
    "# wrapper_time_diff = np.diff(wrapper_array) * sample_conversion # convert to ms\n",
    "# barcode_index = np.where(wrapper_time_diff < wrap_duration)[0] # total_barcode_duration\n",
    "wrapper_start_times = wrapper_array #[barcode_index]\n",
    "signals_barcode_start_times = wrapper_start_times # - ind_wrap_duration / sample_conversion\n",
    "# Actual barcode start is 10 ms before first 10 ms ON value."
   ]
  },
  {
   "cell_type": "code",
   "execution_count": 18,
   "id": "96dc415e",
   "metadata": {},
   "outputs": [
    {
     "data": {
      "text/plain": [
       "array([    1930,     6530,    10953, ..., 10527112, 10531534, 10536135],\n",
       "      dtype=int64)"
      ]
     },
     "execution_count": 18,
     "metadata": {},
     "output_type": "execute_result"
    }
   ],
   "source": [
    "wrapper_start_times"
   ]
  },
  {
   "cell_type": "code",
   "execution_count": null,
   "id": "da005f3d",
   "metadata": {},
   "outputs": [],
   "source": [
    "\n",
    "# Using the wrapper_start_times, collect the rest of the indexed_times events\n",
    "# into on_times and off_times for barcode value extraction.\n",
    "on_times = []\n",
    "off_times = []\n",
    "for idx, ts in enumerate(indexed_times):    # Go through indexed_times\n",
    "    # Find where ts = first wrapper start time\n",
    "    if ts == wrapper_start_times[0]:\n",
    "        # All on_times include current ts and every second value after ts.\n",
    "        on_times = indexed_times[idx::2]\n",
    "        off_times = indexed_times[idx+1::2] # Everything else is off_times\n",
    "\n",
    "# Convert wrapper_start_times, on_times, and off_times to ms\n",
    "wrapper_start_times = wrapper_start_times * sample_conversion\n",
    "on_times = on_times * sample_conversion\n",
    "off_times = off_times * sample_conversion\n",
    "\n",
    "signals_barcodes = []"
   ]
  },
  {
   "cell_type": "code",
   "execution_count": 43,
   "id": "75017fbf",
   "metadata": {},
   "outputs": [],
   "source": [
    "start_time = wrapper_start_times[23]"
   ]
  },
  {
   "cell_type": "code",
   "execution_count": 44,
   "id": "5b2c9e0b",
   "metadata": {},
   "outputs": [],
   "source": [
    "for start_time in wrapper_start_times:\n",
    "    oncode = on_times[\n",
    "        np.where(\n",
    "            np.logical_and(on_times > start_time,\n",
    "                        on_times < start_time + total_barcode_duration)\n",
    "        )[0]\n",
    "    ]\n",
    "    offcode = off_times[\n",
    "        np.where(\n",
    "            np.logical_and(off_times > start_time,\n",
    "                        off_times < start_time + total_barcode_duration)\n",
    "        )[0]\n",
    "    ]\n",
    "    curr_time = offcode[0] + 2*ind_wrap_duration # Jumps ahead to start of barcode\n",
    "    bits = np.zeros((nbits,))\n",
    "    interbit_OFF = False # Changes to \"True\" during multiple OFF\n",
    "\n",
    "    for bit in range(0, nbits):\n",
    "        next_on = np.where(oncode >= (curr_time - ind_bar_duration * global_tolerance))[0]\n",
    "        next_off = np.where(offcode >= (curr_time - ind_bar_duration * global_tolerance))[0]\n",
    "\n",
    "        if next_on.size > 1:    # Don't include the ending wrapper\n",
    "            next_on = oncode[next_on[0]]\n",
    "        else:\n",
    "            next_on = start_time + inter_barcode_interval\n",
    "\n",
    "        if next_off.size > 1:    # Don't include the ending wrapper\n",
    "            next_off = offcode[next_off[0]]\n",
    "        else:\n",
    "            next_off = start_time + inter_barcode_interval\n",
    "\n",
    "        # Recalculate min/max bar duration around curr_time\n",
    "        min_bar_duration = curr_time - ind_bar_duration * global_tolerance\n",
    "        max_bar_duration = curr_time + ind_bar_duration * global_tolerance\n",
    "\n",
    "        if min_bar_duration <= next_on <= max_bar_duration:\n",
    "            bits[bit] = 1\n",
    "            interbit_OFF = False\n",
    "        elif min_bar_duration <= next_off <= max_bar_duration:\n",
    "            interbit_OFF = True\n",
    "        elif interbit_OFF == False:\n",
    "            bits[bit] = 1\n",
    "        # elif min_bar_duration <= next_off < next_on: #interbit_ON == True:\n",
    "        #     bits[bit] = 1\n",
    "        # elif next_on < next_off: #interbit_ON == True:\n",
    "        #     bits[bit] = 0\n",
    "\n",
    "        curr_time += ind_bar_duration\n",
    "\n",
    "    barcode = 0\n",
    "\n",
    "    for bit in range(0, nbits):             # least sig left\n",
    "        barcode += bits[bit] * pow(2, bit)\n",
    "\n",
    "    signals_barcodes.append(barcode)"
   ]
  },
  {
   "cell_type": "code",
   "execution_count": 45,
   "id": "549121c9",
   "metadata": {},
   "outputs": [],
   "source": [
    "signals_time_and_bars_array = np.vstack((signals_barcode_start_times,\n",
    "                                        np.array(signals_barcodes)))"
   ]
  },
  {
   "cell_type": "code",
   "execution_count": 46,
   "id": "135479db",
   "metadata": {},
   "outputs": [
    {
     "data": {
      "text/plain": [
       "(array([  12,   13,   14, ..., 2314, 2315, 2316], dtype=int64),)"
      ]
     },
     "execution_count": 46,
     "metadata": {},
     "output_type": "execute_result"
    }
   ],
   "source": [
    "np.where(np.array(signals_barcodes) > 5464)"
   ]
  },
  {
   "cell_type": "code",
   "execution_count": 47,
   "id": "fa613938",
   "metadata": {},
   "outputs": [
    {
     "data": {
      "text/plain": [
       "array([6060825.,       0.])"
      ]
     },
     "execution_count": 47,
     "metadata": {},
     "output_type": "execute_result"
    }
   ],
   "source": [
    "signals_time_and_bars_array[:,1328]"
   ]
  },
  {
   "cell_type": "code",
   "execution_count": 48,
   "id": "e264919b",
   "metadata": {},
   "outputs": [],
   "source": [
    "start_time = wrapper_start_times[1328]"
   ]
  },
  {
   "cell_type": "code",
   "execution_count": 49,
   "id": "fe7aeaec",
   "metadata": {},
   "outputs": [],
   "source": [
    "oncode = on_times[\n",
    "    np.where(\n",
    "        np.logical_and(on_times > start_time,\n",
    "                    on_times < start_time + total_barcode_duration)\n",
    "    )[0]\n",
    "]\n",
    "offcode = off_times[\n",
    "    np.where(\n",
    "        np.logical_and(off_times > start_time,\n",
    "                    off_times < start_time + total_barcode_duration)\n",
    "    )[0]\n",
    "]\n",
    "curr_time = offcode[0] + 2*ind_wrap_duration # Jumps ahead to start of barcode\n",
    "bits = np.zeros((nbits,))\n",
    "interbit_OFF = False # Changes to \"True\" during multiple OFF"
   ]
  },
  {
   "cell_type": "code",
   "execution_count": 50,
   "id": "e4afd99b",
   "metadata": {},
   "outputs": [
    {
     "data": {
      "text/plain": [
       "673425.0"
      ]
     },
     "execution_count": 50,
     "metadata": {},
     "output_type": "execute_result"
    }
   ],
   "source": [
    "start_time"
   ]
  },
  {
   "cell_type": "code",
   "execution_count": 42,
   "id": "fcbc84b5",
   "metadata": {},
   "outputs": [
    {
     "data": {
      "text/plain": [
       "array([665886. , 665936.2, 666056.4, 666116.6, 666176.6, 666236.8,\n",
       "       666296.8, 666397.2])"
      ]
     },
     "execution_count": 42,
     "metadata": {},
     "output_type": "execute_result"
    }
   ],
   "source": [
    "oncode"
   ]
  },
  {
   "cell_type": "code",
   "execution_count": 43,
   "id": "f9965f36",
   "metadata": {},
   "outputs": [
    {
     "data": {
      "text/plain": [
       "array([665895.8, 665996.2, 666086.4, 666146.6, 666206.8, 666267. ,\n",
       "       666387.2, 666407. ])"
      ]
     },
     "execution_count": 43,
     "metadata": {},
     "output_type": "execute_result"
    }
   ],
   "source": [
    "offcode"
   ]
  },
  {
   "cell_type": "code",
   "execution_count": null,
   "id": "5ad80272",
   "metadata": {},
   "outputs": [],
   "source": []
  },
  {
   "cell_type": "code",
   "execution_count": null,
   "id": "76d2049d",
   "metadata": {},
   "outputs": [],
   "source": [
    "\n",
    "for bit in range(0, nbits):\n",
    "    next_on = np.where(oncode >= (curr_time - ind_bar_duration * global_tolerance))[0]\n",
    "    next_off = np.where(offcode >= (curr_time - ind_bar_duration * global_tolerance))[0]\n",
    "\n",
    "    if next_on.size > 1:    # Don't include the ending wrapper\n",
    "        next_on = oncode[next_on[0]]\n",
    "    else:\n",
    "        next_on = start_time + inter_barcode_interval\n",
    "\n",
    "    if next_off.size > 1:    # Don't include the ending wrapper\n",
    "        next_off = offcode[next_off[0]]\n",
    "    else:\n",
    "        next_off = start_time + inter_barcode_interval\n",
    "\n",
    "    # Recalculate min/max bar duration around curr_time\n",
    "    min_bar_duration = curr_time - ind_bar_duration * global_tolerance\n",
    "    max_bar_duration = curr_time + ind_bar_duration * global_tolerance\n",
    "\n",
    "    if min_bar_duration <= next_on <= max_bar_duration:\n",
    "        bits[bit] = 1\n",
    "        interbit_OFF = False\n",
    "    elif min_bar_duration <= next_off <= max_bar_duration:\n",
    "        interbit_OFF = True\n",
    "    elif interbit_OFF == False:\n",
    "        bits[bit] = 1\n",
    "    # elif min_bar_duration <= next_off < next_on: #interbit_ON == True:\n",
    "    #     bits[bit] = 1\n",
    "    # elif next_on < next_off: #interbit_ON == True:\n",
    "    #     bits[bit] = 0\n",
    "\n",
    "    curr_time += ind_bar_duration\n",
    "\n",
    "barcode = 0\n",
    "\n",
    "for bit in range(0, nbits):             # least sig left\n",
    "    barcode += bits[bit] * pow(2, bit)\n"
   ]
  },
  {
   "cell_type": "code",
   "execution_count": null,
   "id": "810c279a",
   "metadata": {},
   "outputs": [],
   "source": [
    "for start_time in wrapper_start_times:\n",
    "    oncode = on_times[\n",
    "        np.where(\n",
    "            np.logical_and(on_times > start_time,\n",
    "                        on_times < start_time + total_barcode_duration)\n",
    "        )[0]\n",
    "    ]\n",
    "    offcode = off_times[\n",
    "        np.where(\n",
    "            np.logical_and(off_times > start_time,\n",
    "                        off_times < start_time + total_barcode_duration)\n",
    "        )[0]\n",
    "    ]\n",
    "    curr_time = offcode[0] + 2*ind_wrap_duration # Jumps ahead to start of barcode\n",
    "    bits = np.zeros((nbits,))\n",
    "    interbit_OFF = False # Changes to \"True\" during multiple OFF\n",
    "\n",
    "    for bit in range(0, nbits):\n",
    "        next_on = np.where(oncode >= (curr_time - ind_bar_duration * global_tolerance))[0]\n",
    "        next_off = np.where(offcode >= (curr_time - ind_bar_duration * global_tolerance))[0]\n",
    "\n",
    "        if next_on.size > 1:    # Don't include the ending wrapper\n",
    "            next_on = oncode[next_on[0]]\n",
    "        else:\n",
    "            next_on = start_time + inter_barcode_interval\n",
    "\n",
    "        if next_off.size > 1:    # Don't include the ending wrapper\n",
    "            next_off = offcode[next_off[0]]\n",
    "        else:\n",
    "            next_off = start_time + inter_barcode_interval\n",
    "\n",
    "        # Recalculate min/max bar duration around curr_time\n",
    "        min_bar_duration = curr_time - ind_bar_duration * global_tolerance\n",
    "        max_bar_duration = curr_time + ind_bar_duration * global_tolerance\n",
    "\n",
    "        if min_bar_duration <= next_on <= max_bar_duration:\n",
    "            bits[bit] = 1\n",
    "            interbit_OFF = False\n",
    "        elif min_bar_duration <= next_off <= max_bar_duration:\n",
    "            interbit_OFF = True\n",
    "        elif interbit_OFF == False:\n",
    "            bits[bit] = 1\n",
    "        # elif min_bar_duration <= next_off < next_on: #interbit_ON == True:\n",
    "        #     bits[bit] = 1\n",
    "        # elif next_on < next_off: #interbit_ON == True:\n",
    "        #     bits[bit] = 0\n",
    "\n",
    "        curr_time += ind_bar_duration\n",
    "\n",
    "    barcode = 0\n",
    "\n",
    "    for bit in range(0, nbits):             # least sig left\n",
    "        barcode += bits[bit] * pow(2, bit)\n",
    "\n",
    "    signals_barcodes.append(barcode)"
   ]
  },
  {
   "cell_type": "code",
   "execution_count": null,
   "id": "4a03b3ad",
   "metadata": {},
   "outputs": [],
   "source": []
  },
  {
   "cell_type": "code",
   "execution_count": null,
   "id": "9036facb",
   "metadata": {},
   "outputs": [],
   "source": []
  },
  {
   "cell_type": "code",
   "execution_count": null,
   "id": "de43e1cf",
   "metadata": {},
   "outputs": [],
   "source": []
  },
  {
   "cell_type": "code",
   "execution_count": null,
   "id": "51c1cf76",
   "metadata": {},
   "outputs": [],
   "source": []
  },
  {
   "cell_type": "code",
   "execution_count": 24,
   "id": "824af655",
   "metadata": {},
   "outputs": [
    {
     "data": {
      "text/plain": [
       "array([7224.6, 7244.4, 7364.8, 7485.2, 7545.4, 7635.6, 7735.8])"
      ]
     },
     "execution_count": 24,
     "metadata": {},
     "output_type": "execute_result"
    }
   ],
   "source": [
    "offcode"
   ]
  },
  {
   "cell_type": "code",
   "execution_count": 25,
   "id": "0db37d24",
   "metadata": {},
   "outputs": [
    {
     "data": {
      "text/plain": [
       "7244.6"
      ]
     },
     "execution_count": 25,
     "metadata": {},
     "output_type": "execute_result"
    }
   ],
   "source": [
    "curr_time"
   ]
  },
  {
   "cell_type": "code",
   "execution_count": 26,
   "id": "151734f5",
   "metadata": {},
   "outputs": [],
   "source": [
    "bit = 0"
   ]
  },
  {
   "cell_type": "code",
   "execution_count": 29,
   "id": "1e87f0c9",
   "metadata": {},
   "outputs": [],
   "source": [
    "\n",
    "next_on = np.where(oncode >= (curr_time - ind_bar_duration * global_tolerance))[0]\n",
    "next_off = np.where(offcode >= (curr_time - ind_bar_duration * global_tolerance))[0]\n",
    "\n",
    "if next_on.size > 1:    # Don't include the ending wrapper\n",
    "    next_on = oncode[next_on[0]]\n",
    "else:\n",
    "    next_on = start_time + inter_barcode_interval\n",
    "\n",
    "if next_off.size > 1:    # Don't include the ending wrapper\n",
    "    next_off = offcode[next_off[0]]\n",
    "else:\n",
    "    next_off = start_time + inter_barcode_interval"
   ]
  },
  {
   "cell_type": "code",
   "execution_count": 30,
   "id": "4c1cfb43",
   "metadata": {},
   "outputs": [
    {
     "data": {
      "text/plain": [
       "7334.8"
      ]
     },
     "execution_count": 30,
     "metadata": {},
     "output_type": "execute_result"
    }
   ],
   "source": [
    "next_on"
   ]
  },
  {
   "cell_type": "code",
   "execution_count": 31,
   "id": "62093d4f",
   "metadata": {},
   "outputs": [
    {
     "data": {
      "text/plain": [
       "7244.400000000001"
      ]
     },
     "execution_count": 31,
     "metadata": {},
     "output_type": "execute_result"
    }
   ],
   "source": [
    "next_off"
   ]
  },
  {
   "cell_type": "code",
   "execution_count": 32,
   "id": "b6d8ab2e",
   "metadata": {},
   "outputs": [],
   "source": [
    "\n",
    "\n",
    "# Recalculate min/max bar duration around curr_time\n",
    "min_bar_duration = curr_time - ind_bar_duration * global_tolerance\n",
    "max_bar_duration = curr_time + ind_bar_duration * global_tolerance\n",
    "\n",
    "if min_bar_duration <= next_on <= max_bar_duration:\n",
    "    bits[bit] = 1\n",
    "    interbit_OFF = False\n",
    "elif min_bar_duration <= next_off <= max_bar_duration:\n",
    "    interbit_OFF = True\n",
    "elif interbit_OFF == False:\n",
    "    bits[bit] = 1\n",
    "# elif min_bar_duration <= next_off < next_on: #interbit_ON == True:\n",
    "#     bits[bit] = 1\n",
    "# elif next_on < next_off: #interbit_ON == True:\n",
    "#     bits[bit] = 0"
   ]
  },
  {
   "cell_type": "code",
   "execution_count": 33,
   "id": "bb2e8178",
   "metadata": {},
   "outputs": [
    {
     "data": {
      "text/plain": [
       "array([0., 0., 0., 0., 0., 0., 0., 0., 0., 0., 0., 0., 0., 0., 0., 0.])"
      ]
     },
     "execution_count": 33,
     "metadata": {},
     "output_type": "execute_result"
    }
   ],
   "source": [
    "bits"
   ]
  },
  {
   "cell_type": "code",
   "execution_count": null,
   "metadata": {},
   "outputs": [],
   "source": [
    "curr_time += ind_bar_duration\n",
    "\n",
    "barcode = 0\n",
    "\n",
    "for bit in range(0, nbits):             # least sig left\n",
    "    barcode += bits[bit] * pow(2, bit)\n",
    "\n",
    "signals_barcodes.append(barcode)\n"
   ]
  },
  {
   "cell_type": "code",
   "execution_count": null,
   "id": "d93f7937",
   "metadata": {},
   "outputs": [],
   "source": [
    "for start_time in wrapper_start_times:\n",
    "    oncode = on_times[\n",
    "        np.where(\n",
    "            np.logical_and(on_times > start_time,\n",
    "                        on_times < start_time + total_barcode_duration)\n",
    "        )[0]\n",
    "    ]\n",
    "    offcode = off_times[\n",
    "        np.where(\n",
    "            np.logical_and(off_times > start_time,\n",
    "                        off_times < start_time + total_barcode_duration)\n",
    "        )[0]\n",
    "    ]\n",
    "    curr_time = oncode[0] + wrap_duration # ind_wrap_duration # Jumps ahead to start of barcode\n",
    "    bits = np.zeros((nbits,))\n",
    "    interbit_OFF = False # Changes to \"True\" during multiple OFF\n",
    "\n",
    "    for bit in range(0, nbits):\n",
    "        next_on = np.where(oncode >= (curr_time - ind_bar_duration * global_tolerance))[0]\n",
    "        next_off = np.where(offcode >= (curr_time - ind_bar_duration * global_tolerance))[0]\n",
    "\n",
    "        if next_on.size > 1:    # Don't include the ending wrapper\n",
    "            next_on = oncode[next_on[0]]\n",
    "        else:\n",
    "            next_on = start_time + inter_barcode_interval\n",
    "\n",
    "        if next_off.size > 1:    # Don't include the ending wrapper\n",
    "            next_off = offcode[next_off[0]]\n",
    "        else:\n",
    "            next_off = start_time + inter_barcode_interval\n",
    "\n",
    "        # Recalculate min/max bar duration around curr_time\n",
    "        min_bar_duration = curr_time - ind_bar_duration * global_tolerance\n",
    "        max_bar_duration = curr_time + ind_bar_duration * global_tolerance\n",
    "\n",
    "        if min_bar_duration <= next_on <= max_bar_duration:\n",
    "            bits[bit] = 1\n",
    "            interbit_OFF = False\n",
    "        elif min_bar_duration <= next_off <= max_bar_duration:\n",
    "            interbit_OFF = True\n",
    "        elif interbit_OFF == False:\n",
    "            bits[bit] = 1\n",
    "        # elif min_bar_duration <= next_off < next_on: #interbit_ON == True:\n",
    "        #     bits[bit] = 1\n",
    "        # elif next_on < next_off: #interbit_ON == True:\n",
    "        #     bits[bit] = 0\n",
    "\n",
    "        curr_time += ind_bar_duration\n",
    "\n",
    "    barcode = 0\n",
    "\n",
    "    for bit in range(0, nbits):             # least sig left\n",
    "        barcode += bits[bit] * pow(2, bit)\n",
    "\n",
    "    signals_barcodes.append(barcode)\n"
   ]
  },
  {
   "cell_type": "code",
   "execution_count": null,
   "id": "0b067735",
   "metadata": {},
   "outputs": [],
   "source": []
  },
  {
   "cell_type": "code",
   "execution_count": null,
   "id": "b77b447f",
   "metadata": {},
   "outputs": [],
   "source": []
  },
  {
   "cell_type": "code",
   "execution_count": null,
   "id": "ee0a5193",
   "metadata": {},
   "outputs": [],
   "source": []
  },
  {
   "cell_type": "code",
   "execution_count": 37,
   "id": "38f3076b",
   "metadata": {},
   "outputs": [],
   "source": [
    "# Find time difference between index values (ms), and extract barcode wrappers.\n",
    "events_time_diff = np.diff(indexed_times) * sample_conversion # convert to ms\n",
    "wrapper_array = indexed_times[np.where(\n",
    "                np.logical_and(min_wrap_duration < events_time_diff,\n",
    "                                events_time_diff  < max_wrap_duration))[0]]"
   ]
  },
  {
   "cell_type": "code",
   "execution_count": 38,
   "id": "990d93d0",
   "metadata": {},
   "outputs": [],
   "source": [
    "# Isolate the wrapper_array to wrappers with ON values, to avoid any\n",
    "# \"OFF wrappers\" created by first binary value.\n",
    "false_wrapper_check = np.diff(wrapper_array) * sample_conversion # Convert to ms\n",
    "# Locate indices where two wrappers are next to each other."
   ]
  },
  {
   "cell_type": "code",
   "execution_count": 44,
   "id": "127cfecf",
   "metadata": {},
   "outputs": [
    {
     "data": {
      "text/plain": [
       "array([    984,    1034,    3539, ..., 4489957, 4492315, 4492365],\n",
       "      dtype=int64)"
      ]
     },
     "execution_count": 44,
     "metadata": {},
     "output_type": "execute_result"
    }
   ],
   "source": [
    "wrapper_array"
   ]
  },
  {
   "cell_type": "code",
   "execution_count": 43,
   "id": "ffe4d51d",
   "metadata": {},
   "outputs": [
    {
     "data": {
      "text/plain": [
       "array([ 10. , 501. ,  10. , ...,   9.8, 471.6,  10. ])"
      ]
     },
     "execution_count": 43,
     "metadata": {},
     "output_type": "execute_result"
    }
   ],
   "source": [
    "false_wrapper_check"
   ]
  },
  {
   "cell_type": "code",
   "execution_count": 45,
   "id": "9aa4d43b",
   "metadata": {},
   "outputs": [],
   "source": [
    "nexttoeachother = np.where(np.abs(np.diff(false_wrapper_check)) < global_tolerance)[0]"
   ]
  },
  {
   "cell_type": "code",
   "execution_count": 46,
   "id": "a3a34996",
   "metadata": {},
   "outputs": [],
   "source": [
    "false_wrapper_check[nexttoeachother+1] = np.nan"
   ]
  },
  {
   "cell_type": "code",
   "execution_count": 48,
   "id": "c37c25e3",
   "metadata": {},
   "outputs": [],
   "source": [
    "false_wrappers = np.where(\n",
    "                    false_wrapper_check < max_wrap_duration)[0]"
   ]
  },
  {
   "cell_type": "code",
   "execution_count": 42,
   "id": "e6be2f8d",
   "metadata": {},
   "outputs": [
    {
     "ename": "IndexError",
     "evalue": "index 3144 is out of bounds for axis 0 with size 3129",
     "output_type": "error",
     "traceback": [
      "\u001b[1;31m---------------------------------------------------------------------------\u001b[0m",
      "\u001b[1;31mIndexError\u001b[0m                                Traceback (most recent call last)",
      "Cell \u001b[1;32mIn[42], line 1\u001b[0m\n\u001b[1;32m----> 1\u001b[0m false_wrapper_check \u001b[38;5;241m=\u001b[39m \u001b[43mnp\u001b[49m\u001b[38;5;241;43m.\u001b[39;49m\u001b[43mdelete\u001b[49m\u001b[43m(\u001b[49m\u001b[43mfalse_wrappers\u001b[49m\u001b[43m,\u001b[49m\u001b[43m \u001b[49m\u001b[43mnexttoeachother\u001b[49m\u001b[38;5;241;43m+\u001b[39;49m\u001b[38;5;241;43m1\u001b[39;49m\u001b[43m)\u001b[49m\n",
      "File \u001b[1;32m<__array_function__ internals>:200\u001b[0m, in \u001b[0;36mdelete\u001b[1;34m(*args, **kwargs)\u001b[0m\n",
      "File \u001b[1;32mc:\\Users\\Sumiya\\miniconda3\\envs\\arduino_barcodes\\lib\\site-packages\\numpy\\lib\\function_base.py:5235\u001b[0m, in \u001b[0;36mdelete\u001b[1;34m(arr, obj, axis)\u001b[0m\n\u001b[0;32m   5233\u001b[0m \u001b[38;5;28;01melse\u001b[39;00m:\n\u001b[0;32m   5234\u001b[0m     keep \u001b[38;5;241m=\u001b[39m ones(N, dtype\u001b[38;5;241m=\u001b[39m\u001b[38;5;28mbool\u001b[39m)\n\u001b[1;32m-> 5235\u001b[0m     \u001b[43mkeep\u001b[49m\u001b[43m[\u001b[49m\u001b[43mobj\u001b[49m\u001b[43m,\u001b[49m\u001b[43m]\u001b[49m \u001b[38;5;241m=\u001b[39m \u001b[38;5;28;01mFalse\u001b[39;00m\n\u001b[0;32m   5237\u001b[0m slobj[axis] \u001b[38;5;241m=\u001b[39m keep\n\u001b[0;32m   5238\u001b[0m new \u001b[38;5;241m=\u001b[39m arr[\u001b[38;5;28mtuple\u001b[39m(slobj)]\n",
      "\u001b[1;31mIndexError\u001b[0m: index 3144 is out of bounds for axis 0 with size 3129"
     ]
    }
   ],
   "source": [
    "# false_wrapper_check = np.delete(false_wrappers, nexttoeachother+1)"
   ]
  },
  {
   "cell_type": "code",
   "execution_count": 49,
   "id": "aba5d7fd",
   "metadata": {},
   "outputs": [
    {
     "data": {
      "text/plain": [
       "array([   0,    2,    3, ..., 4917, 4918, 4920], dtype=int64)"
      ]
     },
     "execution_count": 49,
     "metadata": {},
     "output_type": "execute_result"
    }
   ],
   "source": [
    "false_wrappers"
   ]
  },
  {
   "cell_type": "code",
   "execution_count": 33,
   "id": "265e309b",
   "metadata": {},
   "outputs": [],
   "source": [
    "# wrapper_array = false_wrapper_check[false_wrappers]"
   ]
  },
  {
   "cell_type": "code",
   "execution_count": 50,
   "id": "143cc3dd",
   "metadata": {},
   "outputs": [],
   "source": [
    "# Delete the \"second\" wrapper (it's an OFF wrapper going into an ON bar)\n",
    "wrapper_array = wrapper_array[false_wrappers]\n",
    "# np.delete(wrapper_array, false_wrappers+1)"
   ]
  },
  {
   "cell_type": "code",
   "execution_count": 51,
   "id": "5ba06d17",
   "metadata": {},
   "outputs": [
    {
     "data": {
      "text/plain": [
       "array([    984,    3539,    3589, ..., 4489858, 4489908, 4492315],\n",
       "      dtype=int64)"
      ]
     },
     "execution_count": 51,
     "metadata": {},
     "output_type": "execute_result"
    }
   ],
   "source": [
    "wrapper_array"
   ]
  },
  {
   "cell_type": "code",
   "execution_count": 52,
   "id": "5260650c",
   "metadata": {},
   "outputs": [],
   "source": [
    "wrapper_time_diff = np.diff(wrapper_array) * sample_conversion # convert to ms\n",
    "barcode_index = np.where(wrapper_time_diff < total_barcode_duration)[0]"
   ]
  },
  {
   "cell_type": "code",
   "execution_count": 54,
   "id": "32d8d7aa-3c58-4b09-ae25-2f3a7cd1caf8",
   "metadata": {},
   "outputs": [],
   "source": [
    "# Find the barcode \"start\" wrappers, set these to wrapper_start_times, then\n",
    "# save the \"real\" barcode start times to signals_barcode_start_times, which\n",
    "# will be combined with barcode values for the output .npy file.\n",
    "wrapper_time_diff = np.diff(wrapper_array) * sample_conversion # convert to ms\n",
    "barcode_index = np.where(wrapper_time_diff < total_barcode_duration)[0]\n",
    "wrapper_start_times = wrapper_array[barcode_index]\n",
    "signals_barcode_start_times = wrapper_start_times # - ind_wrap_duration / sample_conversion\n",
    "# Actual barcode start is 10 ms before first 10 ms ON value.\n",
    "\n",
    "# Using the wrapper_start_times, collect the rest of the indexed_times events\n",
    "# into on_times and off_times for barcode value extraction.\n",
    "on_times = []\n",
    "off_times = []\n",
    "for idx, ts in enumerate(indexed_times):    # Go through indexed_times\n",
    "    # Find where ts = first wrapper start time\n",
    "    if ts == wrapper_start_times[0]:\n",
    "        # All on_times include current ts and every second value after ts.\n",
    "        on_times = indexed_times[idx::2]\n",
    "        off_times = indexed_times[idx+1::2] # Everything else is off_times\n",
    "\n",
    "# Convert wrapper_start_times, on_times, and off_times to ms\n",
    "wrapper_start_times = wrapper_start_times * sample_conversion\n",
    "on_times = on_times * sample_conversion\n",
    "off_times = off_times * sample_conversion\n",
    "\n",
    "signals_barcodes = []"
   ]
  },
  {
   "cell_type": "code",
   "execution_count": 55,
   "id": "a30326bc",
   "metadata": {},
   "outputs": [
    {
     "data": {
      "text/plain": [
       "array([1.968000e+02, 7.078000e+02, 7.178000e+02, ..., 8.974604e+05,\n",
       "       8.979716e+05, 8.979816e+05])"
      ]
     },
     "execution_count": 55,
     "metadata": {},
     "output_type": "execute_result"
    }
   ],
   "source": [
    "wrapper_start_times"
   ]
  },
  {
   "cell_type": "code",
   "execution_count": 56,
   "id": "0180c60b",
   "metadata": {},
   "outputs": [],
   "source": [
    "start_time = wrapper_start_times[22]"
   ]
  },
  {
   "cell_type": "code",
   "execution_count": 57,
   "id": "3a4cc199",
   "metadata": {},
   "outputs": [
    {
     "data": {
      "text/plain": [
       "7214.400000000001"
      ]
     },
     "execution_count": 57,
     "metadata": {},
     "output_type": "execute_result"
    }
   ],
   "source": [
    "start_time"
   ]
  },
  {
   "cell_type": "code",
   "execution_count": 58,
   "id": "11dad086",
   "metadata": {},
   "outputs": [],
   "source": [
    "oncode = on_times[\n",
    "    np.where(\n",
    "        np.logical_and(on_times > start_time,\n",
    "                        on_times < start_time + total_barcode_duration)\n",
    "    )[0]\n",
    "]\n",
    "offcode = off_times[\n",
    "    np.where(\n",
    "        np.logical_and(off_times > start_time,\n",
    "                        off_times < start_time + total_barcode_duration)\n",
    "    )[0]\n",
    "]\n",
    "curr_time = oncode[0] + ind_wrap_duration # Jumps ahead to start of barcode\n",
    "bits = np.zeros((nbits,))\n",
    "interbit_ON = True # Changes to \"True\" during multiple ON bars"
   ]
  },
  {
   "cell_type": "code",
   "execution_count": 59,
   "id": "f0045b77",
   "metadata": {},
   "outputs": [
    {
     "data": {
      "text/plain": [
       "array([7234.6, 7334.8, 7425. , 7515. , 7605.2, 7725.8, 7745.6])"
      ]
     },
     "execution_count": 59,
     "metadata": {},
     "output_type": "execute_result"
    }
   ],
   "source": [
    "oncode"
   ]
  },
  {
   "cell_type": "code",
   "execution_count": 60,
   "id": "f1be0178",
   "metadata": {},
   "outputs": [
    {
     "data": {
      "text/plain": [
       "array([7224.6, 7244.4, 7364.8, 7485.2, 7545.4, 7635.6, 7735.8])"
      ]
     },
     "execution_count": 60,
     "metadata": {},
     "output_type": "execute_result"
    }
   ],
   "source": [
    "offcode"
   ]
  },
  {
   "cell_type": "code",
   "execution_count": 61,
   "id": "be5fc7bb",
   "metadata": {},
   "outputs": [
    {
     "data": {
      "text/plain": [
       "7244.6"
      ]
     },
     "execution_count": 61,
     "metadata": {},
     "output_type": "execute_result"
    }
   ],
   "source": [
    "curr_time"
   ]
  },
  {
   "cell_type": "code",
   "execution_count": 33,
   "id": "5e94e4ee",
   "metadata": {},
   "outputs": [
    {
     "data": {
      "text/plain": [
       "array([0., 0., 0., 0., 0., 0., 0., 0., 0., 0., 0., 0., 0., 0., 0., 0.])"
      ]
     },
     "execution_count": 33,
     "metadata": {},
     "output_type": "execute_result"
    }
   ],
   "source": [
    "bits"
   ]
  },
  {
   "cell_type": "code",
   "execution_count": 48,
   "id": "651abb76",
   "metadata": {},
   "outputs": [],
   "source": [
    "bit = 1"
   ]
  },
  {
   "cell_type": "code",
   "execution_count": 49,
   "id": "221752ec",
   "metadata": {},
   "outputs": [],
   "source": [
    "next_on = np.where(oncode >= (curr_time - ind_bar_duration * global_tolerance))[0]\n",
    "next_off = np.where(offcode >= (curr_time - ind_bar_duration * global_tolerance))[0]"
   ]
  },
  {
   "cell_type": "code",
   "execution_count": 50,
   "id": "e94f1587",
   "metadata": {},
   "outputs": [],
   "source": [
    "if next_on.size > 1:    # Don't include the ending wrapper\n",
    "    next_on = oncode[next_on[0]]\n",
    "else:\n",
    "    next_on = start_time + inter_barcode_interval\n",
    "\n",
    "if next_off.size > 1:    # Don't include the ending wrapper\n",
    "    next_off = offcode[next_off[0]]\n",
    "else:\n",
    "    next_off = start_time + inter_barcode_interval"
   ]
  },
  {
   "cell_type": "code",
   "execution_count": 51,
   "id": "5706c7fd",
   "metadata": {},
   "outputs": [
    {
     "data": {
      "text/plain": [
       "11314.800000000001"
      ]
     },
     "execution_count": 51,
     "metadata": {},
     "output_type": "execute_result"
    }
   ],
   "source": [
    "next_on"
   ]
  },
  {
   "cell_type": "code",
   "execution_count": 52,
   "id": "85be7317",
   "metadata": {},
   "outputs": [
    {
     "data": {
      "text/plain": [
       "11375.0"
      ]
     },
     "execution_count": 52,
     "metadata": {},
     "output_type": "execute_result"
    }
   ],
   "source": [
    "next_off"
   ]
  },
  {
   "cell_type": "code",
   "execution_count": 53,
   "id": "69667fee",
   "metadata": {},
   "outputs": [],
   "source": [
    "# Recalculate min/max bar duration around curr_time\n",
    "min_bar_duration = curr_time - ind_bar_duration * global_tolerance\n",
    "max_bar_duration = curr_time + ind_bar_duration * global_tolerance"
   ]
  },
  {
   "cell_type": "code",
   "execution_count": 54,
   "id": "9f5b1e8d",
   "metadata": {},
   "outputs": [
    {
     "data": {
      "text/plain": [
       "11291.400000000001"
      ]
     },
     "execution_count": 54,
     "metadata": {},
     "output_type": "execute_result"
    }
   ],
   "source": [
    "min_bar_duration"
   ]
  },
  {
   "cell_type": "code",
   "execution_count": 55,
   "id": "fdd9f992",
   "metadata": {},
   "outputs": [
    {
     "data": {
      "text/plain": [
       "11297.400000000001"
      ]
     },
     "execution_count": 55,
     "metadata": {},
     "output_type": "execute_result"
    }
   ],
   "source": [
    "max_bar_duration"
   ]
  },
  {
   "cell_type": "code",
   "execution_count": 56,
   "id": "fff794f2",
   "metadata": {},
   "outputs": [],
   "source": [
    "# Recalculate min/max bar duration around curr_time\n",
    "min_bar_duration = curr_time - ind_bar_duration * global_tolerance\n",
    "max_bar_duration = curr_time + ind_bar_duration * global_tolerance\n",
    "\n",
    "if min_bar_duration <= next_on <= max_bar_duration:\n",
    "    bits[bit] = 1\n",
    "    interbit_ON = True\n",
    "elif min_bar_duration <= next_off <= max_bar_duration:\n",
    "    interbit_ON = False\n",
    "elif interbit_ON == True:\n",
    "    bits[bit] = 1\n",
    "\n",
    "curr_time += ind_bar_duration"
   ]
  },
  {
   "cell_type": "code",
   "execution_count": 57,
   "id": "4de3bbfe",
   "metadata": {},
   "outputs": [
    {
     "data": {
      "text/plain": [
       "11314.800000000001"
      ]
     },
     "execution_count": 57,
     "metadata": {},
     "output_type": "execute_result"
    }
   ],
   "source": [
    "next_on"
   ]
  },
  {
   "cell_type": "code",
   "execution_count": 58,
   "id": "087f6327",
   "metadata": {},
   "outputs": [
    {
     "data": {
      "text/plain": [
       "11375.0"
      ]
     },
     "execution_count": 58,
     "metadata": {},
     "output_type": "execute_result"
    }
   ],
   "source": [
    "next_off"
   ]
  },
  {
   "cell_type": "code",
   "execution_count": 59,
   "id": "9e1ff1a1",
   "metadata": {},
   "outputs": [
    {
     "data": {
      "text/plain": [
       "11291.400000000001"
      ]
     },
     "execution_count": 59,
     "metadata": {},
     "output_type": "execute_result"
    }
   ],
   "source": [
    "min_bar_duration"
   ]
  },
  {
   "cell_type": "code",
   "execution_count": 60,
   "id": "e619c324",
   "metadata": {},
   "outputs": [
    {
     "data": {
      "text/plain": [
       "11297.400000000001"
      ]
     },
     "execution_count": 60,
     "metadata": {},
     "output_type": "execute_result"
    }
   ],
   "source": [
    "max_bar_duration"
   ]
  },
  {
   "cell_type": "code",
   "execution_count": 61,
   "id": "d33eb83c",
   "metadata": {},
   "outputs": [
    {
     "data": {
      "text/plain": [
       "array([1., 1., 0., 0., 0., 0., 0., 0., 0., 0., 0., 0., 0., 0., 0., 0.])"
      ]
     },
     "execution_count": 61,
     "metadata": {},
     "output_type": "execute_result"
    }
   ],
   "source": [
    "bits"
   ]
  },
  {
   "cell_type": "code",
   "execution_count": 19,
   "id": "de8a5648",
   "metadata": {},
   "outputs": [
    {
     "data": {
      "text/plain": [
       "array([11254.6, 11375. , 11495. , 11555.4, 11645.6, 11745.8])"
      ]
     },
     "execution_count": 19,
     "metadata": {},
     "output_type": "execute_result"
    }
   ],
   "source": [
    "\n",
    "for bit in range(0, nbits):\n",
    "    next_on = np.where(oncode >= (curr_time - ind_bar_duration * global_tolerance))[0]\n",
    "    next_off = np.where(offcode >= (curr_time - ind_bar_duration * global_tolerance))[0]\n",
    "\n",
    "    if next_on.size > 1:    # Don't include the ending wrapper\n",
    "        next_on = oncode[next_on[0]]\n",
    "    else:\n",
    "        next_on = start_time + inter_barcode_interval\n",
    "\n",
    "    if next_off.size > 1:    # Don't include the ending wrapper\n",
    "        next_off = offcode[next_off[0]]\n",
    "    else:\n",
    "        next_off = start_time + inter_barcode_interval\n",
    "\n",
    "    # Recalculate min/max bar duration around curr_time\n",
    "    min_bar_duration = curr_time - ind_bar_duration * global_tolerance\n",
    "    max_bar_duration = curr_time + ind_bar_duration * global_tolerance\n",
    "\n",
    "    if min_bar_duration <= next_on <= max_bar_duration:\n",
    "        bits[bit] = 1\n",
    "        interbit_ON = True\n",
    "    elif min_bar_duration <= next_off <= max_bar_duration:\n",
    "        interbit_ON = False\n",
    "    elif interbit_ON == True:\n",
    "        bits[bit] = 1\n",
    "\n",
    "    curr_time += ind_bar_duration\n",
    "\n",
    "barcode = 0\n",
    "\n",
    "for bit in range(0, nbits):             # least sig left\n",
    "    barcode += bits[bit] * pow(2, bit)\n",
    "print(barcode)"
   ]
  },
  {
   "cell_type": "code",
   "execution_count": null,
   "id": "9c4b8f82",
   "metadata": {},
   "outputs": [],
   "source": []
  },
  {
   "cell_type": "code",
   "execution_count": 24,
   "id": "3fff1cff",
   "metadata": {},
   "outputs": [],
   "source": [
    "for start_time in wrapper_start_times:\n",
    "    oncode = on_times[\n",
    "        np.where(\n",
    "            np.logical_and(on_times > start_time,\n",
    "                            on_times < start_time + total_barcode_duration)\n",
    "        )[0]\n",
    "    ]\n",
    "    offcode = off_times[\n",
    "        np.where(\n",
    "            np.logical_and(off_times > start_time,\n",
    "                            off_times < start_time + total_barcode_duration)\n",
    "        )[0]\n",
    "    ]\n",
    "    curr_time = oncode[0] + ind_wrap_duration # Jumps ahead to start of barcode\n",
    "    bits = np.zeros((nbits,))\n",
    "    interbit_ON = True # Changes to \"True\" during multiple ON bars\n",
    "\n",
    "    for bit in range(0, nbits):\n",
    "        next_on = np.where(oncode >= (curr_time - ind_bar_duration * global_tolerance))[0]\n",
    "        next_off = np.where(offcode >= (curr_time - ind_bar_duration * global_tolerance))[0]\n",
    "\n",
    "        if next_on.size > 1:    # Don't include the ending wrapper\n",
    "            next_on = oncode[next_on[0]]\n",
    "        else:\n",
    "            next_on = start_time + inter_barcode_interval\n",
    "\n",
    "        if next_off.size > 1:    # Don't include the ending wrapper\n",
    "            next_off = offcode[next_off[0]]\n",
    "        else:\n",
    "            next_off = start_time + inter_barcode_interval\n",
    "\n",
    "        # Recalculate min/max bar duration around curr_time\n",
    "        min_bar_duration = curr_time - ind_bar_duration * global_tolerance\n",
    "        max_bar_duration = curr_time + ind_bar_duration * global_tolerance\n",
    "\n",
    "        if min_bar_duration <= next_on <= max_bar_duration:\n",
    "            bits[bit] = 1\n",
    "            interbit_ON = True\n",
    "        elif min_bar_duration <= next_off <= max_bar_duration:\n",
    "            interbit_ON = False\n",
    "        elif interbit_ON == True:\n",
    "            bits[bit] = 1\n",
    "\n",
    "        curr_time += ind_bar_duration\n",
    "\n",
    "    barcode = 0\n",
    "\n",
    "    for bit in range(0, nbits):             # least sig left\n",
    "        barcode += bits[bit] * pow(2, bit)\n",
    "\n",
    "    signals_barcodes.append(barcode)\n"
   ]
  },
  {
   "cell_type": "code",
   "execution_count": 25,
   "id": "e709e0fa",
   "metadata": {},
   "outputs": [
    {
     "data": {
      "text/plain": [
       "[4801.0,\n",
       " 0.0,\n",
       " 4802.0,\n",
       " 0.0,\n",
       " 4803.0,\n",
       " 0.0,\n",
       " 4804.0,\n",
       " 0.0,\n",
       " 4805.0,\n",
       " 0.0,\n",
       " 4806.0,\n",
       " 0.0,\n",
       " 4807.0,\n",
       " 0.0,\n",
       " 4808.0,\n",
       " 0.0,\n",
       " 4809.0,\n",
       " 0.0,\n",
       " 4810.0,\n",
       " 0.0,\n",
       " 4811.0,\n",
       " 0.0,\n",
       " 65535.0,\n",
       " 0.0,\n",
       " 0.0,\n",
       " 0.0,\n",
       " 0.0,\n",
       " 0.0,\n",
       " 0.0,\n",
       " 0.0,\n",
       " 0.0,\n",
       " 0.0,\n",
       " 0.0,\n",
       " 0.0,\n",
       " 0.0,\n",
       " 0.0,\n",
       " 0.0,\n",
       " 0.0,\n",
       " 0.0,\n",
       " 0.0,\n",
       " 0.0,\n",
       " 0.0,\n",
       " 0.0,\n",
       " 0.0,\n",
       " 0.0,\n",
       " 0.0,\n",
       " 0.0,\n",
       " 0.0,\n",
       " 0.0,\n",
       " 0.0,\n",
       " 0.0,\n",
       " 0.0,\n",
       " 0.0,\n",
       " 0.0,\n",
       " 0.0,\n",
       " 0.0,\n",
       " 0.0,\n",
       " 0.0,\n",
       " 4830.0,\n",
       " 0.0,\n",
       " 4831.0,\n",
       " 0.0,\n",
       " 4832.0,\n",
       " 0.0,\n",
       " 4833.0,\n",
       " 0.0,\n",
       " 4834.0,\n",
       " 0.0,\n",
       " 4835.0,\n",
       " 0.0,\n",
       " 4836.0,\n",
       " 0.0,\n",
       " 4837.0,\n",
       " 0.0,\n",
       " 4838.0,\n",
       " 0.0,\n",
       " 4839.0,\n",
       " 0.0,\n",
       " 60648.0,\n",
       " 0.0,\n",
       " 0.0,\n",
       " 0.0,\n",
       " 0.0,\n",
       " 0.0,\n",
       " 0.0,\n",
       " 0.0,\n",
       " 0.0,\n",
       " 0.0,\n",
       " 0.0,\n",
       " 0.0,\n",
       " 0.0,\n",
       " 0.0,\n",
       " 0.0,\n",
       " 0.0,\n",
       " 0.0,\n",
       " 0.0,\n",
       " 0.0,\n",
       " 0.0,\n",
       " 0.0,\n",
       " 0.0,\n",
       " 0.0,\n",
       " 0.0,\n",
       " 0.0,\n",
       " 0.0,\n",
       " 0.0,\n",
       " 0.0,\n",
       " 0.0,\n",
       " 0.0,\n",
       " 0.0,\n",
       " 0.0,\n",
       " 0.0,\n",
       " 0.0,\n",
       " 0.0,\n",
       " 0.0,\n",
       " 0.0,\n",
       " 0.0,\n",
       " 0.0,\n",
       " 0.0,\n",
       " 0.0,\n",
       " 0.0,\n",
       " 0.0,\n",
       " 0.0,\n",
       " 0.0,\n",
       " 0.0,\n",
       " 0.0,\n",
       " 0.0,\n",
       " 0.0,\n",
       " 0.0,\n",
       " 0.0,\n",
       " 0.0,\n",
       " 0.0,\n",
       " 0.0,\n",
       " 0.0,\n",
       " 0.0,\n",
       " 0.0,\n",
       " 0.0,\n",
       " 0.0,\n",
       " 0.0,\n",
       " 0.0,\n",
       " 0.0,\n",
       " 0.0,\n",
       " 0.0,\n",
       " 0.0,\n",
       " 0.0,\n",
       " 0.0,\n",
       " 0.0,\n",
       " 0.0,\n",
       " 0.0,\n",
       " 0.0,\n",
       " 0.0,\n",
       " 0.0,\n",
       " 0.0,\n",
       " 0.0,\n",
       " 0.0,\n",
       " 0.0,\n",
       " 0.0,\n",
       " 0.0,\n",
       " 0.0,\n",
       " 0.0,\n",
       " 0.0,\n",
       " 0.0,\n",
       " 0.0,\n",
       " 0.0,\n",
       " 0.0,\n",
       " 0.0,\n",
       " 0.0,\n",
       " 0.0,\n",
       " 0.0,\n",
       " 0.0,\n",
       " 0.0,\n",
       " 0.0,\n",
       " 0.0,\n",
       " 0.0,\n",
       " 0.0,\n",
       " 0.0,\n",
       " 0.0,\n",
       " 0.0,\n",
       " 0.0,\n",
       " 0.0,\n",
       " 0.0,\n",
       " 0.0,\n",
       " 0.0,\n",
       " 0.0,\n",
       " 0.0,\n",
       " 0.0,\n",
       " 0.0,\n",
       " 0.0,\n",
       " 0.0,\n",
       " 0.0,\n",
       " 0.0,\n",
       " 0.0,\n",
       " 0.0,\n",
       " 0.0,\n",
       " 0.0,\n",
       " 0.0,\n",
       " 0.0,\n",
       " 0.0,\n",
       " 0.0,\n",
       " 0.0,\n",
       " 0.0,\n",
       " 0.0,\n",
       " 0.0,\n",
       " 0.0,\n",
       " 0.0,\n",
       " 0.0,\n",
       " 0.0,\n",
       " 0.0,\n",
       " 0.0,\n",
       " 0.0,\n",
       " 0.0,\n",
       " 0.0,\n",
       " 0.0,\n",
       " 0.0,\n",
       " 0.0,\n",
       " 0.0,\n",
       " 0.0,\n",
       " 0.0,\n",
       " 0.0,\n",
       " 0.0,\n",
       " 0.0,\n",
       " 0.0,\n",
       " 0.0,\n",
       " 0.0,\n",
       " 0.0,\n",
       " 0.0,\n",
       " 0.0,\n",
       " 0.0,\n",
       " 0.0,\n",
       " 0.0,\n",
       " 0.0,\n",
       " 0.0,\n",
       " 0.0,\n",
       " 0.0,\n",
       " 0.0,\n",
       " 0.0,\n",
       " 0.0,\n",
       " 0.0,\n",
       " 0.0,\n",
       " 0.0,\n",
       " 0.0,\n",
       " 0.0,\n",
       " 0.0,\n",
       " 0.0,\n",
       " 0.0,\n",
       " 0.0,\n",
       " 0.0,\n",
       " 0.0,\n",
       " 0.0,\n",
       " 0.0,\n",
       " 0.0,\n",
       " 0.0,\n",
       " 0.0,\n",
       " 0.0,\n",
       " 0.0,\n",
       " 0.0,\n",
       " 0.0,\n",
       " 0.0,\n",
       " 0.0,\n",
       " 0.0,\n",
       " 0.0,\n",
       " 0.0,\n",
       " 0.0,\n",
       " 0.0,\n",
       " 0.0,\n",
       " 4933.0,\n",
       " 0.0,\n",
       " 4934.0,\n",
       " 0.0,\n",
       " 4935.0,\n",
       " 0.0,\n",
       " 4936.0,\n",
       " 0.0,\n",
       " 4937.0,\n",
       " 0.0,\n",
       " 4938.0,\n",
       " 0.0,\n",
       " 4939.0,\n",
       " 0.0,\n",
       " 4940.0,\n",
       " 0.0,\n",
       " 4941.0,\n",
       " 0.0,\n",
       " 4942.0,\n",
       " 0.0,\n",
       " 4943.0,\n",
       " 0.0,\n",
       " 4944.0,\n",
       " 0.0,\n",
       " 4945.0,\n",
       " 0.0,\n",
       " 4946.0,\n",
       " 0.0,\n",
       " 4947.0,\n",
       " 0.0,\n",
       " 4948.0,\n",
       " 0.0,\n",
       " 4949.0,\n",
       " 0.0,\n",
       " 4950.0,\n",
       " 0.0,\n",
       " 4951.0,\n",
       " 0.0,\n",
       " 4952.0,\n",
       " 0.0,\n",
       " 4953.0,\n",
       " 0.0,\n",
       " 4954.0,\n",
       " 0.0,\n",
       " 4955.0,\n",
       " 0.0,\n",
       " 4956.0,\n",
       " 0.0,\n",
       " 4957.0,\n",
       " 0.0,\n",
       " 4958.0,\n",
       " 0.0,\n",
       " 4959.0,\n",
       " 0.0,\n",
       " 4960.0,\n",
       " 0.0,\n",
       " 4961.0,\n",
       " 0.0,\n",
       " 4962.0,\n",
       " 0.0,\n",
       " 60515.0,\n",
       " 0.0,\n",
       " 0.0,\n",
       " 0.0,\n",
       " 4965.0,\n",
       " 0.0,\n",
       " 4966.0,\n",
       " 0.0,\n",
       " 4967.0,\n",
       " 0.0,\n",
       " 4968.0,\n",
       " 0.0,\n",
       " 4969.0,\n",
       " 0.0,\n",
       " 4970.0,\n",
       " 0.0,\n",
       " 4971.0,\n",
       " 0.0,\n",
       " 4972.0,\n",
       " 0.0,\n",
       " 4973.0,\n",
       " 0.0,\n",
       " 4974.0,\n",
       " 0.0,\n",
       " 4975.0,\n",
       " 0.0,\n",
       " 4976.0,\n",
       " 0.0,\n",
       " 4977.0,\n",
       " 0.0,\n",
       " 4978.0,\n",
       " 0.0,\n",
       " 4979.0,\n",
       " 0.0,\n",
       " 4980.0,\n",
       " 0.0,\n",
       " 4981.0,\n",
       " 0.0,\n",
       " 4982.0,\n",
       " 0.0,\n",
       " 4983.0,\n",
       " 0.0,\n",
       " 4984.0,\n",
       " 0.0,\n",
       " 4985.0,\n",
       " 0.0,\n",
       " 4986.0,\n",
       " 0.0,\n",
       " 4987.0,\n",
       " 0.0,\n",
       " 4988.0,\n",
       " 0.0,\n",
       " 4989.0,\n",
       " 0.0,\n",
       " 4990.0,\n",
       " 0.0,\n",
       " 4991.0,\n",
       " 0.0,\n",
       " 4992.0,\n",
       " 0.0,\n",
       " 4993.0,\n",
       " 0.0,\n",
       " 4994.0,\n",
       " 0.0,\n",
       " 4995.0,\n",
       " 0.0,\n",
       " 4996.0,\n",
       " 0.0,\n",
       " 4997.0,\n",
       " 0.0,\n",
       " 4998.0,\n",
       " 0.0,\n",
       " 4999.0,\n",
       " 0.0,\n",
       " 5000.0,\n",
       " 0.0,\n",
       " 5001.0,\n",
       " 0.0,\n",
       " 5002.0,\n",
       " 0.0,\n",
       " 5003.0,\n",
       " 0.0,\n",
       " 5004.0,\n",
       " 0.0,\n",
       " 5005.0,\n",
       " 0.0,\n",
       " 5006.0,\n",
       " 0.0,\n",
       " 5007.0,\n",
       " 0.0,\n",
       " 5008.0,\n",
       " 0.0,\n",
       " 5009.0,\n",
       " 0.0,\n",
       " 5010.0,\n",
       " 0.0,\n",
       " 5011.0,\n",
       " 0.0,\n",
       " 5012.0,\n",
       " 0.0,\n",
       " 5013.0,\n",
       " 0.0,\n",
       " 5014.0,\n",
       " 0.0,\n",
       " 5015.0,\n",
       " 0.0,\n",
       " 5016.0,\n",
       " 0.0,\n",
       " 5017.0,\n",
       " 0.0,\n",
       " 5018.0,\n",
       " 0.0,\n",
       " 5019.0,\n",
       " 0.0,\n",
       " 5020.0,\n",
       " 0.0,\n",
       " 5021.0,\n",
       " 0.0,\n",
       " 5022.0,\n",
       " 0.0,\n",
       " 5023.0,\n",
       " 0.0,\n",
       " 5024.0,\n",
       " 0.0,\n",
       " 5025.0,\n",
       " 0.0,\n",
       " 5026.0,\n",
       " 0.0,\n",
       " 5027.0,\n",
       " 0.0,\n",
       " 5028.0,\n",
       " 0.0,\n",
       " 5029.0,\n",
       " 0.0,\n",
       " 5030.0,\n",
       " 0.0,\n",
       " 5031.0,\n",
       " 0.0,\n",
       " 5032.0,\n",
       " 0.0,\n",
       " 5033.0,\n",
       " 0.0,\n",
       " 5034.0,\n",
       " 0.0,\n",
       " 5035.0,\n",
       " 0.0,\n",
       " 5036.0,\n",
       " 0.0,\n",
       " 5037.0,\n",
       " 0.0,\n",
       " 5038.0,\n",
       " 0.0,\n",
       " 5039.0,\n",
       " 0.0,\n",
       " 5040.0,\n",
       " 0.0,\n",
       " 5041.0,\n",
       " 0.0,\n",
       " 5042.0,\n",
       " 0.0,\n",
       " 5043.0,\n",
       " 0.0,\n",
       " 5044.0,\n",
       " 0.0,\n",
       " 5045.0,\n",
       " 0.0,\n",
       " 5046.0,\n",
       " 0.0,\n",
       " 5047.0,\n",
       " 0.0,\n",
       " 5048.0,\n",
       " 0.0,\n",
       " 5049.0,\n",
       " 0.0,\n",
       " 5050.0,\n",
       " 0.0,\n",
       " 5051.0,\n",
       " 0.0,\n",
       " 5052.0,\n",
       " 0.0,\n",
       " 5053.0,\n",
       " 0.0,\n",
       " 5054.0,\n",
       " 0.0,\n",
       " 5055.0,\n",
       " 0.0,\n",
       " 5056.0,\n",
       " 0.0,\n",
       " 5057.0,\n",
       " 0.0,\n",
       " 5058.0,\n",
       " 0.0,\n",
       " 5059.0,\n",
       " 0.0,\n",
       " 5060.0,\n",
       " 0.0,\n",
       " 5061.0,\n",
       " 0.0,\n",
       " 5062.0,\n",
       " 0.0,\n",
       " 5063.0,\n",
       " 0.0,\n",
       " 5064.0,\n",
       " 0.0,\n",
       " 5065.0,\n",
       " 0.0,\n",
       " 5066.0,\n",
       " 0.0,\n",
       " 5067.0,\n",
       " 0.0,\n",
       " 5068.0,\n",
       " 0.0,\n",
       " 5069.0,\n",
       " 0.0,\n",
       " 5070.0,\n",
       " 0.0,\n",
       " 5071.0,\n",
       " 0.0,\n",
       " 5072.0,\n",
       " 0.0,\n",
       " 5073.0,\n",
       " 0.0,\n",
       " 5074.0,\n",
       " 0.0,\n",
       " 5075.0,\n",
       " 0.0,\n",
       " 5076.0,\n",
       " 0.0,\n",
       " 5077.0,\n",
       " 0.0,\n",
       " 5078.0,\n",
       " 0.0,\n",
       " 5079.0,\n",
       " 0.0,\n",
       " 5080.0,\n",
       " 0.0,\n",
       " 5081.0,\n",
       " 0.0,\n",
       " 5082.0,\n",
       " 0.0,\n",
       " 5083.0,\n",
       " 0.0,\n",
       " 5084.0,\n",
       " 0.0,\n",
       " 5085.0,\n",
       " 0.0,\n",
       " 5086.0,\n",
       " 0.0,\n",
       " 5087.0,\n",
       " 0.0,\n",
       " 5088.0,\n",
       " 0.0,\n",
       " 5089.0,\n",
       " 0.0,\n",
       " 5090.0,\n",
       " 0.0,\n",
       " 5091.0,\n",
       " 0.0,\n",
       " 5092.0,\n",
       " 0.0,\n",
       " 5093.0,\n",
       " 0.0,\n",
       " 5094.0,\n",
       " 0.0,\n",
       " 5095.0,\n",
       " 0.0,\n",
       " 5096.0,\n",
       " 0.0,\n",
       " 5097.0,\n",
       " 0.0,\n",
       " 5098.0,\n",
       " 0.0,\n",
       " 5099.0,\n",
       " 0.0,\n",
       " 5100.0,\n",
       " 0.0,\n",
       " 5101.0,\n",
       " 0.0,\n",
       " 5102.0,\n",
       " 0.0,\n",
       " 5103.0,\n",
       " 0.0,\n",
       " 5104.0,\n",
       " 0.0,\n",
       " 5105.0,\n",
       " 0.0,\n",
       " 5106.0,\n",
       " 0.0,\n",
       " 5107.0,\n",
       " 0.0,\n",
       " 5108.0,\n",
       " 0.0,\n",
       " 5109.0,\n",
       " 0.0,\n",
       " 5110.0,\n",
       " 0.0,\n",
       " 5111.0,\n",
       " 0.0,\n",
       " 5112.0,\n",
       " 0.0,\n",
       " 5113.0,\n",
       " 0.0,\n",
       " 5114.0,\n",
       " 0.0,\n",
       " 5115.0,\n",
       " 0.0,\n",
       " 5116.0,\n",
       " 0.0,\n",
       " 5117.0,\n",
       " 0.0,\n",
       " 5118.0,\n",
       " 0.0,\n",
       " 5119.0,\n",
       " 0.0,\n",
       " 5120.0,\n",
       " 0.0,\n",
       " 5121.0,\n",
       " 0.0,\n",
       " 5122.0,\n",
       " 0.0,\n",
       " 5123.0,\n",
       " 0.0,\n",
       " 5124.0,\n",
       " 0.0,\n",
       " 5125.0,\n",
       " 0.0,\n",
       " 5126.0,\n",
       " 0.0,\n",
       " 5127.0,\n",
       " 0.0,\n",
       " 5128.0,\n",
       " 0.0,\n",
       " 5129.0,\n",
       " 0.0,\n",
       " 5130.0,\n",
       " 0.0,\n",
       " 5131.0,\n",
       " 0.0,\n",
       " 5132.0,\n",
       " 0.0,\n",
       " 5133.0,\n",
       " 0.0,\n",
       " 62478.0,\n",
       " 0.0,\n",
       " 0.0,\n",
       " 0.0,\n",
       " 0.0,\n",
       " 0.0,\n",
       " 0.0,\n",
       " 0.0,\n",
       " 0.0,\n",
       " 0.0,\n",
       " 0.0,\n",
       " 0.0,\n",
       " 0.0,\n",
       " 0.0,\n",
       " 0.0,\n",
       " 0.0,\n",
       " 0.0,\n",
       " 0.0,\n",
       " 0.0,\n",
       " 0.0,\n",
       " 0.0,\n",
       " 0.0,\n",
       " 0.0,\n",
       " 0.0,\n",
       " 0.0,\n",
       " 0.0,\n",
       " 0.0,\n",
       " 0.0,\n",
       " 0.0,\n",
       " 0.0,\n",
       " 0.0,\n",
       " 0.0,\n",
       " 0.0,\n",
       " 0.0,\n",
       " 0.0,\n",
       " 0.0,\n",
       " 0.0,\n",
       " 0.0,\n",
       " 0.0,\n",
       " 0.0,\n",
       " 0.0,\n",
       " 0.0,\n",
       " 5155.0,\n",
       " 0.0,\n",
       " 5156.0,\n",
       " 0.0,\n",
       " 5157.0,\n",
       " 0.0,\n",
       " 5158.0,\n",
       " 0.0,\n",
       " 5159.0,\n",
       " 0.0,\n",
       " 5160.0,\n",
       " 0.0,\n",
       " 5161.0,\n",
       " 0.0,\n",
       " 5162.0,\n",
       " 0.0,\n",
       " 5163.0,\n",
       " 0.0,\n",
       " 5164.0,\n",
       " 0.0,\n",
       " 5165.0,\n",
       " 0.0,\n",
       " 5166.0,\n",
       " 0.0,\n",
       " 5167.0,\n",
       " 0.0,\n",
       " 5168.0,\n",
       " 0.0,\n",
       " 5169.0,\n",
       " 0.0,\n",
       " 5170.0,\n",
       " 0.0,\n",
       " 5171.0,\n",
       " 0.0,\n",
       " 5172.0,\n",
       " 0.0,\n",
       " 5173.0,\n",
       " 0.0,\n",
       " 5174.0,\n",
       " 0.0,\n",
       " 5175.0,\n",
       " 0.0,\n",
       " 5176.0,\n",
       " 0.0,\n",
       " 5177.0,\n",
       " 0.0,\n",
       " 5178.0,\n",
       " 0.0,\n",
       " 5179.0,\n",
       " 0.0,\n",
       " 5180.0,\n",
       " 0.0,\n",
       " 5181.0,\n",
       " 0.0,\n",
       " 5182.0,\n",
       " 0.0,\n",
       " 5183.0,\n",
       " 0.0,\n",
       " 5184.0,\n",
       " 0.0,\n",
       " 5185.0,\n",
       " 0.0,\n",
       " 5186.0,\n",
       " 0.0,\n",
       " 5187.0,\n",
       " 0.0,\n",
       " 5188.0,\n",
       " 0.0,\n",
       " 5189.0,\n",
       " 0.0,\n",
       " 5190.0,\n",
       " 0.0,\n",
       " 5191.0,\n",
       " 0.0,\n",
       " 5192.0,\n",
       " 0.0,\n",
       " 5193.0,\n",
       " 0.0,\n",
       " 5194.0,\n",
       " 0.0,\n",
       " 5195.0,\n",
       " 0.0,\n",
       " 5196.0,\n",
       " 0.0,\n",
       " 5197.0,\n",
       " 0.0,\n",
       " 5198.0,\n",
       " 0.0,\n",
       " 5199.0,\n",
       " 0.0,\n",
       " 5200.0,\n",
       " 0.0,\n",
       " 5201.0,\n",
       " 0.0,\n",
       " 5202.0,\n",
       " 0.0,\n",
       " 5203.0,\n",
       " 0.0,\n",
       " 5204.0,\n",
       " 0.0,\n",
       " 5205.0,\n",
       " 0.0,\n",
       " 5206.0,\n",
       " 0.0,\n",
       " 5207.0,\n",
       " 0.0,\n",
       " 5208.0,\n",
       " 0.0,\n",
       " 5209.0,\n",
       " 0.0,\n",
       " 5210.0,\n",
       " 0.0,\n",
       " 5211.0,\n",
       " 0.0,\n",
       " 5212.0,\n",
       " 0.0,\n",
       " 5213.0,\n",
       " 0.0,\n",
       " 5214.0,\n",
       " 0.0,\n",
       " 5215.0,\n",
       " 0.0,\n",
       " 5216.0,\n",
       " 0.0,\n",
       " 5217.0,\n",
       " 0.0,\n",
       " 5218.0,\n",
       " 0.0,\n",
       " 5219.0,\n",
       " 0.0,\n",
       " 5220.0,\n",
       " 0.0,\n",
       " 5221.0,\n",
       " 0.0,\n",
       " 5222.0,\n",
       " 0.0,\n",
       " 5223.0,\n",
       " 0.0,\n",
       " 5224.0,\n",
       " 0.0,\n",
       " 5225.0,\n",
       " 0.0,\n",
       " 5226.0,\n",
       " 0.0,\n",
       " 5227.0,\n",
       " 0.0,\n",
       " 5228.0,\n",
       " 0.0,\n",
       " 5229.0,\n",
       " 0.0,\n",
       " 5230.0,\n",
       " 0.0,\n",
       " 5231.0,\n",
       " 0.0,\n",
       " 5232.0,\n",
       " 0.0,\n",
       " 5233.0,\n",
       " 0.0,\n",
       " 5234.0,\n",
       " 0.0,\n",
       " 5235.0,\n",
       " 0.0,\n",
       " 5236.0,\n",
       " 0.0,\n",
       " 5237.0,\n",
       " 0.0,\n",
       " 5238.0,\n",
       " 0.0,\n",
       " 5239.0,\n",
       " 0.0,\n",
       " 5240.0,\n",
       " 0.0,\n",
       " 5241.0,\n",
       " 0.0,\n",
       " 5242.0,\n",
       " 0.0,\n",
       " 5243.0,\n",
       " 0.0,\n",
       " 5244.0,\n",
       " 0.0,\n",
       " 5245.0,\n",
       " 0.0,\n",
       " 5246.0,\n",
       " 0.0,\n",
       " 5247.0,\n",
       " 0.0,\n",
       " 5248.0,\n",
       " 0.0,\n",
       " 5249.0,\n",
       " 0.0,\n",
       " 5250.0,\n",
       " 0.0,\n",
       " 5251.0,\n",
       " 0.0,\n",
       " 5252.0,\n",
       " 0.0,\n",
       " 5253.0,\n",
       " 0.0,\n",
       " 5254.0,\n",
       " 0.0,\n",
       " 65535.0,\n",
       " 0.0,\n",
       " 0.0,\n",
       " 0.0,\n",
       " 0.0,\n",
       " 0.0,\n",
       " 0.0,\n",
       " 0.0,\n",
       " 0.0,\n",
       " 0.0,\n",
       " 0.0,\n",
       " 0.0,\n",
       " 0.0,\n",
       " 0.0,\n",
       " 0.0,\n",
       " 0.0,\n",
       " 0.0,\n",
       " 0.0,\n",
       " 0.0,\n",
       " 0.0,\n",
       " 0.0,\n",
       " 0.0,\n",
       " 0.0,\n",
       " 0.0,\n",
       " 0.0,\n",
       " 0.0,\n",
       " 0.0,\n",
       " 0.0,\n",
       " 0.0,\n",
       " 0.0,\n",
       " 0.0,\n",
       " 0.0,\n",
       " 0.0,\n",
       " 0.0,\n",
       " 0.0,\n",
       " 0.0,\n",
       " 0.0,\n",
       " 0.0,\n",
       " 0.0,\n",
       " 0.0,\n",
       " 0.0,\n",
       " 0.0,\n",
       " 0.0,\n",
       " 0.0,\n",
       " 0.0,\n",
       " 0.0,\n",
       " 0.0,\n",
       " 0.0,\n",
       " 0.0,\n",
       " 0.0,\n",
       " 0.0,\n",
       " 0.0,\n",
       " 0.0,\n",
       " 0.0,\n",
       " 0.0,\n",
       " 0.0,\n",
       " 0.0,\n",
       " 0.0,\n",
       " 0.0,\n",
       " 0.0,\n",
       " 0.0,\n",
       " 0.0,\n",
       " 0.0,\n",
       " 0.0,\n",
       " 0.0,\n",
       " 0.0,\n",
       " 0.0,\n",
       " 0.0,\n",
       " 0.0,\n",
       " 0.0,\n",
       " 0.0,\n",
       " 0.0,\n",
       " 0.0,\n",
       " 0.0,\n",
       " 0.0,\n",
       " 0.0,\n",
       " 5293.0,\n",
       " 0.0,\n",
       " 5294.0,\n",
       " 0.0,\n",
       " 5295.0,\n",
       " 0.0,\n",
       " 5296.0,\n",
       " 0.0,\n",
       " 5297.0,\n",
       " 0.0,\n",
       " 5298.0,\n",
       " 0.0,\n",
       " 5299.0,\n",
       " 0.0,\n",
       " 5300.0,\n",
       " 0.0,\n",
       " ...]"
      ]
     },
     "execution_count": 25,
     "metadata": {},
     "output_type": "execute_result"
    }
   ],
   "source": [
    "signals_barcodes"
   ]
  },
  {
   "cell_type": "code",
   "execution_count": 54,
   "id": "0a9af8a5",
   "metadata": {},
   "outputs": [
    {
     "data": {
      "text/plain": [
       "array([[9.840000e+02, 5.996000e+03, 1.100900e+04, ..., 4.487302e+06,\n",
       "        4.489858e+06, 4.492315e+06],\n",
       "       [4.801000e+03, 4.802000e+03, 4.803000e+03, ..., 6.553500e+04,\n",
       "        3.276700e+04, 6.553500e+04]])"
      ]
     },
     "execution_count": 54,
     "metadata": {},
     "output_type": "execute_result"
    }
   ],
   "source": [
    "actualbarcode_idx = np.where(np.array(signals_barcodes) >= 1)[0]\n",
    "signals_time_and_bars_array[:,actualbarcode_idx]"
   ]
  },
  {
   "cell_type": "code",
   "execution_count": 52,
   "id": "428663af",
   "metadata": {},
   "outputs": [
    {
     "data": {
      "text/plain": [
       "(array([   1,    3,    5,    7,    9,   11,   13,   15,   17,   19,   21,\n",
       "          79,   81,   83,   85,   87,   89,   91,   93,   95,   97,   99,\n",
       "         101,  103,  105,  107,  109,  111,  113,  115,  117,  119,  121,\n",
       "         123,  125,  127,  129,  131,  133,  135,  137,  139,  141,  143,\n",
       "         145,  147,  149,  151,  153,  155,  157,  159,  161,  163,  165,\n",
       "         167,  169,  171,  173,  175,  177,  179,  181,  183,  185,  187,\n",
       "         189,  191,  193,  195,  197,  199,  201,  203,  205,  207,  209,\n",
       "         211,  213,  215,  217,  219,  221,  223,  225,  227,  229,  231,\n",
       "         233,  235,  237,  239,  241,  243,  245,  247,  249,  251,  253,\n",
       "         255,  257,  259,  261,  263,  265,  267,  269,  271,  273,  275,\n",
       "         277,  279,  281,  283,  285,  287,  289,  291,  293,  295,  297,\n",
       "         299,  301,  303,  305,  307,  309,  311,  313,  315,  317,  319,\n",
       "         321,  323,  325,  327,  329,  331,  333,  335,  337,  339,  341,\n",
       "         343,  345,  347,  349,  351,  353,  355,  357,  359,  361,  363,\n",
       "         365,  367,  369,  371,  373,  375,  377,  379,  381,  383,  385,\n",
       "         387,  389,  391,  393,  395,  397,  399,  401,  403,  405,  407,\n",
       "         409,  411,  413,  415,  417,  419,  421,  423,  425,  427,  429,\n",
       "         431,  433,  435,  437,  439,  441,  443,  445,  447,  449,  451,\n",
       "         453,  455,  457,  459,  461,  463,  465,  467,  469,  471,  473,\n",
       "         475,  477,  479,  481,  483,  485,  487,  489,  491,  493,  495,\n",
       "         497,  499,  501,  503,  505,  507,  509,  511,  513,  515,  517,\n",
       "         519,  521,  523,  525,  527,  529,  531,  533,  535,  537,  539,\n",
       "         541,  543,  545,  547,  549,  551,  553,  555,  557,  559,  561,\n",
       "         563,  565,  567,  569,  571,  573,  575,  577,  579,  581,  583,\n",
       "         585,  587,  589,  591,  593,  595,  597,  599,  601,  603,  605,\n",
       "         607,  609,  611,  613,  615,  617,  619,  621,  623,  625,  627,\n",
       "         629,  631,  633,  635,  637,  639,  641,  643,  645,  647,  649,\n",
       "         651,  653,  655,  657,  659,  661,  663,  665,  667,  669,  671,\n",
       "         673,  675,  677,  679,  681,  683,  685,  687,  689,  691,  693,\n",
       "         695,  697,  699,  701,  703,  705,  707,  709,  711,  713,  715,\n",
       "         717,  719,  721,  723,  725,  727,  729,  731,  733,  735,  737,\n",
       "         739,  741,  743,  745,  747,  749,  751,  753,  755,  757,  759,\n",
       "         761,  763,  765,  767,  769,  771,  773,  775,  777,  779,  781,\n",
       "         783,  785,  787,  789,  791,  793,  795,  797,  799,  801,  803,\n",
       "         805,  807,  809,  811,  813,  815,  817,  819,  821,  823,  825,\n",
       "         827,  829,  831,  833,  835,  837,  839,  841,  843,  845,  847,\n",
       "         849,  851,  853,  855,  857,  859,  861,  863,  865,  867,  869,\n",
       "         871,  873,  875,  877,  879,  881,  883,  885,  887,  889,  891,\n",
       "         893,  895,  897,  899,  901,  903,  905,  907,  909,  911,  913,\n",
       "         915,  917,  919,  921,  923,  925,  927,  929,  931,  933,  935,\n",
       "         937,  939,  941,  943,  945,  947,  949,  951,  953,  955,  957,\n",
       "         959,  961,  963,  965,  967,  969,  971,  973,  975,  977,  979,\n",
       "         981,  983,  985,  987,  989,  991,  993,  995,  997,  999, 1001,\n",
       "        1003, 1005, 1007, 1009, 1011, 1013, 1015, 1017, 1019, 1021, 1023,\n",
       "        1025, 1027, 1029, 1031, 1033, 1035, 1037, 1039, 1041, 1043, 1045,\n",
       "        1047, 1049, 1051, 1053, 1055, 1057, 1059, 1061, 1063, 1065, 1067,\n",
       "        1069, 1071, 1073, 1075, 1077, 1079, 1081, 1083, 1085, 1087, 1089,\n",
       "        1091, 1093, 1095, 1097, 1099, 1101, 1103, 1105, 1107, 1109, 1111,\n",
       "        1113, 1115, 1117, 1119, 1121, 1123, 1125, 1127, 1129, 1131, 1133,\n",
       "        1135, 1137, 1139, 1141, 1143, 1145, 1147, 1149, 1151, 1153, 1155,\n",
       "        1157, 1159, 1161, 1163, 1165, 1167, 1169, 1171, 1173, 1175, 1177,\n",
       "        1179, 1181, 1183, 1185, 1187, 1189, 1191, 1193, 1195, 1197, 1199,\n",
       "        1201, 1203, 1205, 1207, 1209, 1211, 1213, 1215, 1217, 1219, 1221,\n",
       "        1223, 1225, 1227, 1229, 1231, 1233, 1235, 1237, 1239, 1241, 1243,\n",
       "        1245, 1247, 1249, 1251, 1253, 1255, 1257, 1259, 1261, 1263, 1265,\n",
       "        1267, 1269, 1271, 1273, 1275, 1277, 1279, 1281, 1283, 1285, 1287,\n",
       "        1289, 1291, 1293, 1295, 1297, 1299, 1301, 1303, 1305, 1307, 1309,\n",
       "        1311, 1313, 1315, 1317, 1319, 1321, 1323, 1325], dtype=int64),)"
      ]
     },
     "execution_count": 52,
     "metadata": {},
     "output_type": "execute_result"
    }
   ],
   "source": [
    "betweenbarcode"
   ]
  },
  {
   "cell_type": "code",
   "execution_count": null,
   "id": "819d080b",
   "metadata": {},
   "outputs": [],
   "source": []
  },
  {
   "cell_type": "code",
   "execution_count": 26,
   "id": "3b085368-3216-4230-b558-f6cd03d34b1e",
   "metadata": {},
   "outputs": [],
   "source": [
    "signals_time_and_bars_array = np.vstack((signals_barcode_start_times,\n",
    "                                        np.array(signals_barcodes)))"
   ]
  },
  {
   "cell_type": "code",
   "execution_count": 29,
   "id": "b129d9d7",
   "metadata": {},
   "outputs": [
    {
     "data": {
      "text/plain": [
       "array([56073., 65535.])"
      ]
     },
     "execution_count": 29,
     "metadata": {},
     "output_type": "execute_result"
    }
   ],
   "source": [
    "signals_time_and_bars_array[:,22]"
   ]
  },
  {
   "cell_type": "code",
   "execution_count": 28,
   "id": "6efdd600",
   "metadata": {},
   "outputs": [
    {
     "data": {
      "text/plain": [
       "(2, 1792)"
      ]
     },
     "execution_count": 28,
     "metadata": {},
     "output_type": "execute_result"
    }
   ],
   "source": [
    "signals_time_and_bars_array.shape"
   ]
  },
  {
   "cell_type": "code",
   "execution_count": 23,
   "id": "11e638b5-d404-4621-95c6-33a543b246ec",
   "metadata": {},
   "outputs": [],
   "source": [
    "import matplotlib.pyplot as plt"
   ]
  },
  {
   "cell_type": "code",
   "execution_count": 24,
   "id": "a4b2afd0-6702-43b7-9e91-083d5150b9a4",
   "metadata": {},
   "outputs": [
    {
     "data": {
      "image/png": "[encoded data removed]",
      "text/plain": [
       "<Figure size 640x480 with 1 Axes>"
      ]
     },
     "metadata": {},
     "output_type": "display_data"
    }
   ],
   "source": [
    "plt.plot(barcode_array)\n",
    "plt.xlim(3329380,3339380)\n",
    "plt.show()"
   ]
  },
  {
   "cell_type": "code",
   "execution_count": null,
   "id": "684ef3fd-1f59-4b71-8396-84c157ccc1bd",
   "metadata": {},
   "outputs": [],
   "source": []
  },
  {
   "cell_type": "code",
   "execution_count": null,
   "id": "43804857",
   "metadata": {},
   "outputs": [],
   "source": []
  }
 ],
 "metadata": {
  "kernelspec": {
   "display_name": "arduino_barcodes",
   "language": "python",
   "name": "python3"
  },
  "language_info": {
   "codemirror_mode": {
    "name": "ipython",
    "version": 3
   },
   "file_extension": ".py",
   "mimetype": "text/x-python",
   "name": "python",
   "nbconvert_exporter": "python",
   "pygments_lexer": "ipython3",
   "version": "3.8.10"
  }
 },
 "nbformat": 4,
 "nbformat_minor": 5
}
