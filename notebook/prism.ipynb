{
 "cells": [
  {
   "cell_type": "code",
   "execution_count": 2,
   "id": "1b0941fe",
   "metadata": {},
   "outputs": [],
   "source": [
    "from brainrender import Scene"
   ]
  },
  {
   "cell_type": "code",
   "execution_count": 1,
   "id": "f80d461b",
   "metadata": {},
   "outputs": [
    {
     "ename": "IndexError",
     "evalue": "list index out of range",
     "output_type": "error",
     "traceback": [
      "\u001b[1;31m---------------------------------------------------------------------------\u001b[0m",
      "\u001b[1;31mIndexError\u001b[0m                                Traceback (most recent call last)",
      "Cell \u001b[1;32mIn[1], line 3\u001b[0m\n\u001b[0;32m      1\u001b[0m \u001b[38;5;28;01mfrom\u001b[39;00m\u001b[38;5;250m \u001b[39m\u001b[38;5;21;01mvedo\u001b[39;00m\u001b[38;5;250m \u001b[39m\u001b[38;5;28;01mimport\u001b[39;00m Volume\n\u001b[1;32m----> 3\u001b[0m vol \u001b[38;5;241m=\u001b[39m \u001b[43mVolume\u001b[49m\u001b[43m(\u001b[49m\u001b[38;5;124;43m'\u001b[39;49m\u001b[38;5;124;43m~/Desktop/prism.stl\u001b[39;49m\u001b[38;5;124;43m'\u001b[39;49m\u001b[43m)\u001b[49m\n\u001b[0;32m      4\u001b[0m mesh \u001b[38;5;241m=\u001b[39m vol\u001b[38;5;241m.\u001b[39misosurface()\n",
      "File \u001b[1;32mc:\\Users\\Sumiya\\miniconda3\\envs\\suite2p2\\lib\\site-packages\\vedo\\volume.py:111\u001b[0m, in \u001b[0;36mVolume.__init__\u001b[1;34m(self, inputobj, dims, origin, spacing)\u001b[0m\n\u001b[0;32m    107\u001b[0m     img \u001b[38;5;241m=\u001b[39m vtki\u001b[38;5;241m.\u001b[39mvtkImageData()\n\u001b[0;32m    109\u001b[0m \u001b[38;5;28;01melif\u001b[39;00m utils\u001b[38;5;241m.\u001b[39mis_sequence(inputobj):\n\u001b[1;32m--> 111\u001b[0m     \u001b[38;5;28;01mif\u001b[39;00m \u001b[38;5;28misinstance\u001b[39m(\u001b[43minputobj\u001b[49m\u001b[43m[\u001b[49m\u001b[38;5;241;43m0\u001b[39;49m\u001b[43m]\u001b[49m, \u001b[38;5;28mstr\u001b[39m) \u001b[38;5;129;01mand\u001b[39;00m \u001b[38;5;124m\"\u001b[39m\u001b[38;5;124m.bmp\u001b[39m\u001b[38;5;124m\"\u001b[39m \u001b[38;5;129;01min\u001b[39;00m inputobj[\u001b[38;5;241m0\u001b[39m]\u001b[38;5;241m.\u001b[39mlower():\n\u001b[0;32m    112\u001b[0m         \u001b[38;5;66;03m# scan sequence of BMP files\u001b[39;00m\n\u001b[0;32m    113\u001b[0m         ima \u001b[38;5;241m=\u001b[39m vtki\u001b[38;5;241m.\u001b[39mnew(\u001b[38;5;124m\"\u001b[39m\u001b[38;5;124mImageAppend\u001b[39m\u001b[38;5;124m\"\u001b[39m)\n\u001b[0;32m    114\u001b[0m         ima\u001b[38;5;241m.\u001b[39mSetAppendAxis(\u001b[38;5;241m2\u001b[39m)\n",
      "\u001b[1;31mIndexError\u001b[0m: list index out of range"
     ]
    }
   ],
   "source": [
    "from vedo import Volume\n",
    "\n",
    "vol = Volume('~/Desktop/prism.stl')\n",
    "mesh = vol.isosurface()"
   ]
  },
  {
   "cell_type": "code",
   "execution_count": null,
   "id": "154cd258",
   "metadata": {},
   "outputs": [],
   "source": []
  },
  {
   "cell_type": "code",
   "execution_count": 3,
   "id": "1d888503",
   "metadata": {},
   "outputs": [
    {
     "data": {
      "text/html": [
       "<pre style=\"white-space:pre;overflow-x:auto;line-height:normal;font-family:Menlo,'DejaVu Sans Mono',consolas,'Courier New',monospace\"></pre>\n"
      ],
      "text/plain": []
     },
     "metadata": {},
     "output_type": "display_data"
    },
    {
     "data": {
      "text/html": [
       "<table>\n",
       "<tr>\n",
       "<td>\n",
       "<img src='data:image/png;base64,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'></img>\n",
       "</td>\n",
       "<td style='text-align: center; vertical-align: center;'><br/>\n",
       "<b> Mesh: &nbsp&nbsp</b><b><a href=\"https://vedo.embl.es/docs/vedo/mesh.html#Mesh\" target=\"_blank\">vedo.mesh.Mesh</a></b><br/><code><i>(.../Desktop/MouseCup_Columbia.STL)</i></code>\n",
       "<table>\n",
       "<tr><td><b> bounds </b> <br/> (x/y/z) </td><td>5.000 ... 51.00<br/>-12.68 ... 35.60<br/>-87.82 ... 0.9638</td></tr>\n",
       "<tr><td><b> center of mass </b></td><td>(28.0, 12.7, -37.5)</td></tr>\n",
       "<tr><td><b> average size </b></td><td>34.759</td></tr>\n",
       "<tr><td><b> nr. points&nbsp/&nbspfaces </b></td><td>350&nbsp/&nbsp702</td></tr>\n",
       "\n",
       "\n",
       "</table>\n",
       "</table>"
      ],
      "text/plain": [
       "\n",
       "\n",
       "\n",
       "\n",
       "\u001b[38;2;192;192;192m╭──────────────────────────────────────────────────────────────────────────────────────╮\u001b[0m\n",
       "\u001b[38;2;192;192;192m│\u001b[0m  \u001b[1m \u001b[0m\u001b[1m                                                                                \u001b[0m\u001b[1m \u001b[0m  \u001b[38;2;192;192;192m│\u001b[0m\n",
       "\u001b[38;2;192;192;192m│\u001b[0m   \u001b[1;38;2;255;167;38mbrainrender.Actor: \u001b[0m                                                                \u001b[38;2;192;192;192m│\u001b[0m\n",
       "\u001b[38;2;192;192;192m│\u001b[0m   \u001b[1;38;2;255;167;38m──────────────────────\u001b[0m                                                             \u001b[38;2;192;192;192m│\u001b[0m\n",
       "\u001b[38;2;192;192;192m│\u001b[0m                                                                                      \u001b[38;2;192;192;192m│\u001b[0m\n",
       "\u001b[38;2;192;192;192m│\u001b[0m   \u001b[1;38;2;255;167;38mname:\u001b[0m\u001b[38;2;255;202;40m MouseCup_Columbia.STL\u001b[0m                                                        \u001b[38;2;192;192;192m│\u001b[0m\n",
       "\u001b[38;2;192;192;192m│\u001b[0m   \u001b[1;38;2;255;167;38mtype:\u001b[0m\u001b[38;2;255;202;40m from file\u001b[0m                                                                    \u001b[38;2;192;192;192m│\u001b[0m\n",
       "\u001b[38;2;192;192;192m│\u001b[0m   \u001b[38;2;255;255;255m─\u001b[0m\u001b[38;2;255;255;255m─\u001b[0m\u001b[38;2;255;255;255m─\u001b[0m\u001b[38;2;255;255;255m─\u001b[0m\u001b[38;2;255;255;255m─\u001b[0m\u001b[38;2;255;255;255m─\u001b[0m\u001b[38;2;255;255;255m─\u001b[0m\u001b[38;2;255;255;255m─\u001b[0m\u001b[38;2;255;255;255m─\u001b[0m\u001b[38;2;255;255;255m─\u001b[0m\u001b[38;2;255;255;255m─\u001b[0m\u001b[38;2;255;255;255m─\u001b[0m\u001b[38;2;255;255;255m─\u001b[0m\u001b[38;2;255;255;255m─\u001b[0m\u001b[38;2;255;255;255m─\u001b[0m\u001b[38;2;255;255;255m─\u001b[0m\u001b[38;2;255;255;255m─\u001b[0m\u001b[38;2;255;255;255m─\u001b[0m\u001b[38;2;255;255;255m─\u001b[0m\u001b[38;2;255;255;255m─\u001b[0m\u001b[38;2;255;255;255m─\u001b[0m\u001b[38;2;255;255;255m─\u001b[0m\u001b[38;2;255;255;255m─\u001b[0m\u001b[38;2;255;255;255m─\u001b[0m\u001b[38;2;255;255;255m─\u001b[0m\u001b[38;2;255;255;255m─\u001b[0m\u001b[38;2;255;255;255m─\u001b[0m\u001b[38;2;255;255;255m─\u001b[0m\u001b[38;2;255;255;255m─\u001b[0m\u001b[38;2;255;255;255m─\u001b[0m\u001b[38;2;255;255;255m─\u001b[0m\u001b[38;2;255;255;255m─\u001b[0m\u001b[38;2;255;255;255m─\u001b[0m\u001b[38;2;255;255;255m─\u001b[0m\u001b[38;2;255;255;255m─\u001b[0m\u001b[38;2;255;255;255m─\u001b[0m\u001b[38;2;255;255;255m─\u001b[0m\u001b[38;2;255;255;255m─\u001b[0m\u001b[38;2;255;255;255m─\u001b[0m\u001b[38;2;255;255;255m─\u001b[0m\u001b[38;2;255;255;255m─\u001b[0m\u001b[38;2;255;255;255m─\u001b[0m\u001b[38;2;255;255;255m─\u001b[0m\u001b[38;2;255;255;255m─\u001b[0m\u001b[38;2;255;255;255m─\u001b[0m\u001b[38;2;255;255;255m─\u001b[0m\u001b[38;2;255;255;255m─\u001b[0m\u001b[38;2;255;255;255m─\u001b[0m\u001b[38;2;255;255;255m─\u001b[0m\u001b[38;2;255;255;255m─\u001b[0m\u001b[38;2;255;255;255m─\u001b[0m\u001b[38;2;255;255;255m─\u001b[0m\u001b[38;2;255;255;255m─\u001b[0m\u001b[38;2;255;255;255m─\u001b[0m\u001b[38;2;255;255;255m─\u001b[0m\u001b[38;2;255;255;255m─\u001b[0m\u001b[38;2;255;255;255m─\u001b[0m\u001b[38;2;255;255;255m─\u001b[0m\u001b[38;2;255;255;255m─\u001b[0m\u001b[38;2;255;255;255m─\u001b[0m\u001b[38;2;255;255;255m─\u001b[0m\u001b[38;2;255;255;255m─\u001b[0m\u001b[38;2;255;255;255m─\u001b[0m\u001b[38;2;255;255;255m─\u001b[0m\u001b[38;2;255;255;255m─\u001b[0m\u001b[38;2;255;255;255m─\u001b[0m\u001b[38;2;255;255;255m─\u001b[0m\u001b[38;2;255;255;255m─\u001b[0m\u001b[38;2;255;255;255m─\u001b[0m\u001b[38;2;255;255;255m─\u001b[0m\u001b[38;2;255;255;255m─\u001b[0m\u001b[38;2;255;255;255m─\u001b[0m\u001b[38;2;255;255;255m─\u001b[0m\u001b[38;2;255;255;255m─\u001b[0m\u001b[38;2;255;255;255m─\u001b[0m\u001b[38;2;255;255;255m─\u001b[0m\u001b[38;2;255;255;255m─\u001b[0m\u001b[38;2;255;255;255m─\u001b[0m\u001b[38;2;255;255;255m─\u001b[0m\u001b[38;2;255;255;255m─\u001b[0m   \u001b[38;2;192;192;192m│\u001b[0m\n",
       "\u001b[38;2;192;192;192m│\u001b[0m   \u001b[38;2;255;167;38mcenter of mass:\u001b[0m\u001b[38;2;255;202;40m [27 12 37]\u001b[0m                                                         \u001b[38;2;192;192;192m│\u001b[0m\n",
       "\u001b[38;2;192;192;192m│\u001b[0m   \u001b[38;2;255;167;38mnumber of vertices:\u001b[0m\u001b[38;2;255;202;40m 350\u001b[0m                                                            \u001b[38;2;192;192;192m│\u001b[0m\n",
       "\u001b[38;2;192;192;192m│\u001b[0m   \u001b[38;2;255;167;38mdimensions:\u001b[0m\u001b[38;2;255;202;40m [  5  51 -12  35   0  87]\u001b[0m                                              \u001b[38;2;192;192;192m│\u001b[0m\n",
       "\u001b[38;2;192;192;192m│\u001b[0m   \u001b[38;2;255;167;38mcolor:\u001b[0m\u001b[38;2;255;202;40m [0.52941176 0.80784314 0.92156863]\u001b[0m                                          \u001b[38;2;192;192;192m│\u001b[0m\n",
       "\u001b[38;2;192;192;192m│\u001b[0m                                                                                      \u001b[38;2;192;192;192m│\u001b[0m\n",
       "\u001b[38;2;192;192;192m╰──────────────────────────────────────────────────────────────────────────────────────╯\u001b[0m"
      ]
     },
     "execution_count": 3,
     "metadata": {},
     "output_type": "execute_result"
    }
   ],
   "source": [
    "scene = Scene()\n",
    "scene.add('c:/Users/Sumiya/Desktop/MouseCup_Columbia.STL', color=\"skyblue\")"
   ]
  },
  {
   "cell_type": "code",
   "execution_count": 4,
   "id": "e56bc7b4",
   "metadata": {},
   "outputs": [
    {
     "name": "stderr",
     "output_type": "stream",
     "text": [
      "c:\\Users\\Sumiya\\miniconda3\\envs\\suite2p2\\lib\\site-packages\\traittypes\\traittypes.py:97: UserWarning: Given trait value dtype \"float64\" does not match required type \"float32\". A coerced copy has been created.\n",
      "  warnings.warn(\n"
     ]
    },
    {
     "data": {
      "text/html": [
       "<pre style=\"white-space:pre;overflow-x:auto;line-height:normal;font-family:Menlo,'DejaVu Sans Mono',consolas,'Courier New',monospace\">The brainrender scene has been exported for web. The results are saved at jesse.html\n",
       "</pre>\n"
      ],
      "text/plain": [
       "The brainrender scene has been exported for web. The results are saved at jesse.html\n"
      ]
     },
     "metadata": {},
     "output_type": "display_data"
    },
    {
     "data": {
      "text/html": [
       "<pre style=\"white-space:pre;overflow-x:auto;line-height:normal;font-family:Menlo,'DejaVu Sans Mono',consolas,'Courier New',monospace\"></pre>\n"
      ],
      "text/plain": []
     },
     "metadata": {},
     "output_type": "display_data"
    },
    {
     "data": {
      "text/plain": [
       "\u001b[32m'jesse.html'\u001b[0m"
      ]
     },
     "execution_count": 4,
     "metadata": {},
     "output_type": "execute_result"
    }
   ],
   "source": [
    "scene.render()\n",
    "scene.export(\"jesse.html\")"
   ]
  },
  {
   "cell_type": "code",
   "execution_count": 8,
   "id": "d99b8808",
   "metadata": {},
   "outputs": [
    {
     "data": {
      "text/html": [
       "<pre style=\"white-space:pre;overflow-x:auto;line-height:normal;font-family:Menlo,'DejaVu Sans Mono',consolas,'Courier New',monospace\"></pre>\n"
      ],
      "text/plain": []
     },
     "metadata": {},
     "output_type": "display_data"
    },
    {
     "data": {
      "text/html": [
       "<table>\n",
       "<tr>\n",
       "<td>\n",
       "<img src='data:image/png;base64,iVBORw0KGgoAAAANSUhEUgAAAMgAAADICAIAAAAiOjnJAAAECUlEQVR4nO3bPWtkZQCG4Tdu2GbIbJAhFik8diOilaCF4PmL9v4FaxublYAfsCAqzBYLQVBESWAJLmmEsYiMcTLsTDLnmfMx19UFEniLm/c5OZMczOfzAk17o+0DMEzCIkJYRAiLCGERISwihEWEsIgQFhHCIkJYRAiLCGERISwihEWEsIg4fMDPnM3OL67+ejl7VlVVXddNH4khOHjAX5B+/tW3Z7PzxZeT8WhyNJqenpRSjq8vq6qqqqrBI9JHD7mxllxcvbq4evX8tz///fqn30v5ZlHbD19+Ude1i23fNHBjbWgyHpVSpqcnk6ORGR283YW1khkdqgamcBtmdKhavrE2ZEZ7px9hrWRGu6zlKdyGGe2yHt9YGzKjrRh+WCvdru34+rKUorZm7WlYKy09tEltG8JaYzIe3VxsHtruRVj35qFtE8JqhncfS3r8uqFTvPtY4sbaqf2ZUWG1b5AzagrbN8gZdWP1Rr9mVFj91tkZNYX99voZffH91/Wn9YcfvLf7gwlrgG7V9ubPT3/8bDp98vjRjs/g/wqJEBYRwiJCWEQIiwhhESEsIoRFhLCIEBYRwiJCWEQIiwhhESEsIoRFhLCIEBYRwiJCWEQIiwhhESEsIoRFhLCIEBYRwiJCWEQIiwhhESEsIoRFhLCIEBYRwiJCWEQIiwhhESEsIoRFhLCIEBYRwiJCWEQIiwhhESEsIoRFhLCIEBYRwiJCWEQIiwhhESEsIoRFhLCIEBYRwiJCWEQIiwhhESEsIoRFhLCIEBYRwiJCWEQIiwhhESEsIoRFhLCIEBYRwiJCWEQIiwhhESEsIoRFhLCIEBYRwiJCWEQIiwhhESEsIoRFhLCIEBYRwiJCWEQIiwhhESEsIoRFhLCIEBYRwiJCWEQIiwhhESEsIoRFhLCIEBYRwiJCWEQIiwhhESEsIoRFhLCIEBYRwiJCWEQIiwhhESEsIoRFhLCIOGz7ADRvMh5NjkaT8ej4+rJ6u3ry+NHuzyCsfls0ND1968V3T6uqquu67UOVIqwemYxHpZTp6Ukp5fDX53cb+uTdd1o52ErC6qK7Dd249S0ft3OyjQmrfbfn7O8/fiml/P8q6npDKwlrpxZX0eRo9HL2bMUjUZfmbBvCSln7SFQ+er+Nc+2IsJqxNGe9eyRqnLDubf1v+EOZs20I63X69Rt+pwjrP+asQXsaljlLG35Y5qwVQwtrcRX19IX1YPQ4rHVzpqE29SMsc9Y7nQvrpiFz1ncthzXIz18puwxrfz5/pYTC2vPPXymNhOWFNXcdzOfz+/7M2ey8lNKpv7Cmax4SFqzl/wqJEBYRwiJCWEQIiwhhESEsIoRFhLCIEBYRwiJCWEQIiwhhESEsIoRFxD8UHoRymY1sSwAAAABJRU5ErkJggg=='></img>\n",
       "</td>\n",
       "<td style='text-align: center; vertical-align: center;'><br/>\n",
       "<b> Mesh: &nbsp&nbsp</b><b><a href=\"https://vedo.embl.es/docs/vedo/mesh.html#Mesh\" target=\"_blank\">vedo.mesh.Mesh</a></b><br/><code><i>(...Users/Sumiya/Desktop/prism.STL)</i></code>\n",
       "<table>\n",
       "<tr><td><b> bounds </b> <br/> (x/y/z) </td><td>0 ... 1.500<br/>0 ... 1.500<br/>-3.986 ... -2.486</td></tr>\n",
       "<tr><td><b> center of mass </b></td><td>(0.500, 0.750, -3.49)</td></tr>\n",
       "<tr><td><b> average size </b></td><td>1.241</td></tr>\n",
       "<tr><td><b> nr. points&nbsp/&nbspfaces </b></td><td>6&nbsp/&nbsp8</td></tr>\n",
       "\n",
       "\n",
       "</table>\n",
       "</table>"
      ],
      "text/plain": [
       "\n",
       "\n",
       "\n",
       "\n",
       "\u001b[38;2;192;192;192m╭──────────────────────────────────────────────────────────────────────────────────────╮\u001b[0m\n",
       "\u001b[38;2;192;192;192m│\u001b[0m  \u001b[1m \u001b[0m\u001b[1m                                                                                \u001b[0m\u001b[1m \u001b[0m  \u001b[38;2;192;192;192m│\u001b[0m\n",
       "\u001b[38;2;192;192;192m│\u001b[0m   \u001b[1;38;2;255;167;38mbrainrender.Actor: \u001b[0m                                                                \u001b[38;2;192;192;192m│\u001b[0m\n",
       "\u001b[38;2;192;192;192m│\u001b[0m   \u001b[1;38;2;255;167;38m──────────────────────\u001b[0m                                                             \u001b[38;2;192;192;192m│\u001b[0m\n",
       "\u001b[38;2;192;192;192m│\u001b[0m                                                                                      \u001b[38;2;192;192;192m│\u001b[0m\n",
       "\u001b[38;2;192;192;192m│\u001b[0m   \u001b[1;38;2;255;167;38mname:\u001b[0m\u001b[38;2;255;202;40m prism.STL\u001b[0m                                                                    \u001b[38;2;192;192;192m│\u001b[0m\n",
       "\u001b[38;2;192;192;192m│\u001b[0m   \u001b[1;38;2;255;167;38mtype:\u001b[0m\u001b[38;2;255;202;40m from file\u001b[0m                                                                    \u001b[38;2;192;192;192m│\u001b[0m\n",
       "\u001b[38;2;192;192;192m│\u001b[0m   \u001b[38;2;255;255;255m─\u001b[0m\u001b[38;2;255;255;255m─\u001b[0m\u001b[38;2;255;255;255m─\u001b[0m\u001b[38;2;255;255;255m─\u001b[0m\u001b[38;2;255;255;255m─\u001b[0m\u001b[38;2;255;255;255m─\u001b[0m\u001b[38;2;255;255;255m─\u001b[0m\u001b[38;2;255;255;255m─\u001b[0m\u001b[38;2;255;255;255m─\u001b[0m\u001b[38;2;255;255;255m─\u001b[0m\u001b[38;2;255;255;255m─\u001b[0m\u001b[38;2;255;255;255m─\u001b[0m\u001b[38;2;255;255;255m─\u001b[0m\u001b[38;2;255;255;255m─\u001b[0m\u001b[38;2;255;255;255m─\u001b[0m\u001b[38;2;255;255;255m─\u001b[0m\u001b[38;2;255;255;255m─\u001b[0m\u001b[38;2;255;255;255m─\u001b[0m\u001b[38;2;255;255;255m─\u001b[0m\u001b[38;2;255;255;255m─\u001b[0m\u001b[38;2;255;255;255m─\u001b[0m\u001b[38;2;255;255;255m─\u001b[0m\u001b[38;2;255;255;255m─\u001b[0m\u001b[38;2;255;255;255m─\u001b[0m\u001b[38;2;255;255;255m─\u001b[0m\u001b[38;2;255;255;255m─\u001b[0m\u001b[38;2;255;255;255m─\u001b[0m\u001b[38;2;255;255;255m─\u001b[0m\u001b[38;2;255;255;255m─\u001b[0m\u001b[38;2;255;255;255m─\u001b[0m\u001b[38;2;255;255;255m─\u001b[0m\u001b[38;2;255;255;255m─\u001b[0m\u001b[38;2;255;255;255m─\u001b[0m\u001b[38;2;255;255;255m─\u001b[0m\u001b[38;2;255;255;255m─\u001b[0m\u001b[38;2;255;255;255m─\u001b[0m\u001b[38;2;255;255;255m─\u001b[0m\u001b[38;2;255;255;255m─\u001b[0m\u001b[38;2;255;255;255m─\u001b[0m\u001b[38;2;255;255;255m─\u001b[0m\u001b[38;2;255;255;255m─\u001b[0m\u001b[38;2;255;255;255m─\u001b[0m\u001b[38;2;255;255;255m─\u001b[0m\u001b[38;2;255;255;255m─\u001b[0m\u001b[38;2;255;255;255m─\u001b[0m\u001b[38;2;255;255;255m─\u001b[0m\u001b[38;2;255;255;255m─\u001b[0m\u001b[38;2;255;255;255m─\u001b[0m\u001b[38;2;255;255;255m─\u001b[0m\u001b[38;2;255;255;255m─\u001b[0m\u001b[38;2;255;255;255m─\u001b[0m\u001b[38;2;255;255;255m─\u001b[0m\u001b[38;2;255;255;255m─\u001b[0m\u001b[38;2;255;255;255m─\u001b[0m\u001b[38;2;255;255;255m─\u001b[0m\u001b[38;2;255;255;255m─\u001b[0m\u001b[38;2;255;255;255m─\u001b[0m\u001b[38;2;255;255;255m─\u001b[0m\u001b[38;2;255;255;255m─\u001b[0m\u001b[38;2;255;255;255m─\u001b[0m\u001b[38;2;255;255;255m─\u001b[0m\u001b[38;2;255;255;255m─\u001b[0m\u001b[38;2;255;255;255m─\u001b[0m\u001b[38;2;255;255;255m─\u001b[0m\u001b[38;2;255;255;255m─\u001b[0m\u001b[38;2;255;255;255m─\u001b[0m\u001b[38;2;255;255;255m─\u001b[0m\u001b[38;2;255;255;255m─\u001b[0m\u001b[38;2;255;255;255m─\u001b[0m\u001b[38;2;255;255;255m─\u001b[0m\u001b[38;2;255;255;255m─\u001b[0m\u001b[38;2;255;255;255m─\u001b[0m\u001b[38;2;255;255;255m─\u001b[0m\u001b[38;2;255;255;255m─\u001b[0m\u001b[38;2;255;255;255m─\u001b[0m\u001b[38;2;255;255;255m─\u001b[0m\u001b[38;2;255;255;255m─\u001b[0m\u001b[38;2;255;255;255m─\u001b[0m\u001b[38;2;255;255;255m─\u001b[0m\u001b[38;2;255;255;255m─\u001b[0m   \u001b[38;2;192;192;192m│\u001b[0m\n",
       "\u001b[38;2;192;192;192m│\u001b[0m   \u001b[38;2;255;167;38mcenter of mass:\u001b[0m\u001b[38;2;255;202;40m [0 0 3]\u001b[0m                                                            \u001b[38;2;192;192;192m│\u001b[0m\n",
       "\u001b[38;2;192;192;192m│\u001b[0m   \u001b[38;2;255;167;38mnumber of vertices:\u001b[0m\u001b[38;2;255;202;40m 6\u001b[0m                                                              \u001b[38;2;192;192;192m│\u001b[0m\n",
       "\u001b[38;2;192;192;192m│\u001b[0m   \u001b[38;2;255;167;38mdimensions:\u001b[0m\u001b[38;2;255;202;40m [0 1 0 1 2 3]\u001b[0m                                                          \u001b[38;2;192;192;192m│\u001b[0m\n",
       "\u001b[38;2;192;192;192m│\u001b[0m   \u001b[38;2;255;167;38mcolor:\u001b[0m\u001b[38;2;255;202;40m [0.52941176 0.80784314 0.92156863]\u001b[0m                                          \u001b[38;2;192;192;192m│\u001b[0m\n",
       "\u001b[38;2;192;192;192m│\u001b[0m                                                                                      \u001b[38;2;192;192;192m│\u001b[0m\n",
       "\u001b[38;2;192;192;192m╰──────────────────────────────────────────────────────────────────────────────────────╯\u001b[0m"
      ]
     },
     "execution_count": 8,
     "metadata": {},
     "output_type": "execute_result"
    }
   ],
   "source": [
    "scene = Scene(title=\"brainrender web export\")\n",
    "scene.add_brain_region('PL', hemisphere=\"right\", color=\"green\")\n",
    "scene.add('c:/Users/Sumiya/Desktop/prism.STL', color=\"skyblue\")"
   ]
  },
  {
   "cell_type": "code",
   "execution_count": 9,
   "id": "4cf8d0ce",
   "metadata": {},
   "outputs": [
    {
     "data": {
      "text/html": [
       "<pre style=\"white-space:pre;overflow-x:auto;line-height:normal;font-family:Menlo,'DejaVu Sans Mono',consolas,'Courier New',monospace\">The brainrender scene has been exported for web. The results are saved at brain_regions.html\n",
       "</pre>\n"
      ],
      "text/plain": [
       "The brainrender scene has been exported for web. The results are saved at brain_regions.html\n"
      ]
     },
     "metadata": {},
     "output_type": "display_data"
    },
    {
     "data": {
      "text/html": [
       "<pre style=\"white-space:pre;overflow-x:auto;line-height:normal;font-family:Menlo,'DejaVu Sans Mono',consolas,'Courier New',monospace\"></pre>\n"
      ],
      "text/plain": []
     },
     "metadata": {},
     "output_type": "display_data"
    },
    {
     "data": {
      "text/plain": [
       "\u001b[32m'brain_regions.html'\u001b[0m"
      ]
     },
     "execution_count": 9,
     "metadata": {},
     "output_type": "execute_result"
    }
   ],
   "source": [
    "scene.render()\n",
    "scene.export(\"brain_regions.html\")"
   ]
  },
  {
   "cell_type": "code",
   "execution_count": null,
   "id": "17f33dcd",
   "metadata": {},
   "outputs": [],
   "source": []
  }
 ],
 "metadata": {
  "kernelspec": {
   "display_name": "suite2p2",
   "language": "python",
   "name": "python3"
  },
  "language_info": {
   "codemirror_mode": {
    "name": "ipython",
    "version": 3
   },
   "file_extension": ".py",
   "mimetype": "text/x-python",
   "name": "python",
   "nbconvert_exporter": "python",
   "pygments_lexer": "ipython3",
   "version": "3.9.20"
  }
 },
 "nbformat": 4,
 "nbformat_minor": 5
}
